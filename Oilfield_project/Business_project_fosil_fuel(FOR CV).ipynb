{
 "cells": [
  {
   "cell_type": "markdown",
   "metadata": {},
   "source": [
    "# Выбор локации для скважины"
   ]
  },
  {
   "cell_type": "markdown",
   "metadata": {},
   "source": [
    "Допустим, вы работаете в добывающей компании «ГлавРосГосНефть». Нужно решить, где бурить новую скважину.\n",
    "\n",
    "Вам предоставлены пробы нефти в трёх регионах: в каждом 10 000 месторождений, где измерили качество нефти и объём её запасов. Постройте модель машинного обучения, которая поможет определить регион, где добыча принесёт наибольшую прибыль. Проанализируйте возможную прибыль и риски техникой *Bootstrap.*\n",
    "\n",
    "Шаги для выбора локации:\n",
    "\n",
    "- В избранном регионе ищут месторождения, для каждого определяют значения признаков;\n",
    "- Строят модель и оценивают объём запасов;\n",
    "- Выбирают месторождения с самым высокими оценками значений. Количество месторождений зависит от бюджета компании и стоимости разработки одной скважины;\n",
    "- Прибыль равна суммарной прибыли отобранных месторождений."
   ]
  },
  {
   "cell_type": "markdown",
   "metadata": {},
   "source": [
    "## Загрузка и подготовка данных"
   ]
  },
  {
   "cell_type": "markdown",
   "metadata": {},
   "source": [
    "Для начала установим и импортируем все необходимые библиотеки"
   ]
  },
  {
   "cell_type": "code",
   "execution_count": 1,
   "metadata": {},
   "outputs": [
    {
     "name": "stdout",
     "output_type": "stream",
     "text": [
      "Requirement already satisfied: phik in /opt/conda/lib/python3.9/site-packages (0.12.4)\n",
      "Requirement already satisfied: pandas>=0.25.1 in /opt/conda/lib/python3.9/site-packages (from phik) (1.2.4)\n",
      "Requirement already satisfied: joblib>=0.14.1 in /opt/conda/lib/python3.9/site-packages (from phik) (1.1.0)\n",
      "Requirement already satisfied: matplotlib>=2.2.3 in /opt/conda/lib/python3.9/site-packages (from phik) (3.3.4)\n",
      "Requirement already satisfied: scipy>=1.5.2 in /opt/conda/lib/python3.9/site-packages (from phik) (1.9.1)\n",
      "Requirement already satisfied: numpy>=1.18.0 in /opt/conda/lib/python3.9/site-packages (from phik) (1.21.1)\n",
      "Requirement already satisfied: pillow>=6.2.0 in /opt/conda/lib/python3.9/site-packages (from matplotlib>=2.2.3->phik) (8.4.0)\n",
      "Requirement already satisfied: python-dateutil>=2.1 in /opt/conda/lib/python3.9/site-packages (from matplotlib>=2.2.3->phik) (2.8.1)\n",
      "Requirement already satisfied: cycler>=0.10 in /opt/conda/lib/python3.9/site-packages (from matplotlib>=2.2.3->phik) (0.11.0)\n",
      "Requirement already satisfied: pyparsing!=2.0.4,!=2.1.2,!=2.1.6,>=2.0.3 in /opt/conda/lib/python3.9/site-packages (from matplotlib>=2.2.3->phik) (2.4.7)\n",
      "Requirement already satisfied: kiwisolver>=1.0.1 in /opt/conda/lib/python3.9/site-packages (from matplotlib>=2.2.3->phik) (1.4.4)\n",
      "Requirement already satisfied: pytz>=2017.3 in /opt/conda/lib/python3.9/site-packages (from pandas>=0.25.1->phik) (2021.1)\n",
      "Requirement already satisfied: six>=1.5 in /opt/conda/lib/python3.9/site-packages (from python-dateutil>=2.1->matplotlib>=2.2.3->phik) (1.16.0)\n",
      "Note: you may need to restart the kernel to use updated packages.\n"
     ]
    }
   ],
   "source": [
    "pip install phik"
   ]
  },
  {
   "cell_type": "code",
   "execution_count": 2,
   "metadata": {},
   "outputs": [],
   "source": [
    "import numpy as np\n",
    "import pandas as pd\n",
    "from sklearn.model_selection import train_test_split,cross_val_score\n",
    "from matplotlib import pyplot as plt \n",
    "import phik\n",
    "import seaborn as sns\n",
    "#import shap\n",
    "from phik.report import plot_correlation_matrix\n",
    "import warnings\n",
    "warnings.filterwarnings('ignore')\n",
    "from scipy.stats import ttest_ind\n",
    "from scipy.stats import t\n",
    "\n",
    "\n",
    "\n",
    "# загружаем класс pipeline\n",
    "from sklearn.pipeline import Pipeline\n",
    "\n",
    "# загружаем классы для подготовки данных\n",
    "from sklearn.preprocessing import  StandardScaler, MinMaxScaler, RobustScaler\n",
    "from sklearn.compose import ColumnTransformer\n",
    "\n",
    "\n",
    "\n",
    "# загружаем функцию для работы с метриками\n",
    "from sklearn.metrics import r2_score,confusion_matrix,mean_squared_error\n",
    "\n",
    "\n",
    "\n",
    "# импортируем класс RandomizedSearchCV\n",
    "from sklearn.model_selection import GridSearchCV\n",
    "\n",
    "\n",
    "# загружаем нужные модели\n",
    "from sklearn.linear_model import LinearRegression\n",
    "\n",
    "import os\n",
    "\n",
    "#Фиксируем константу для рандомизации\n",
    "RANDOM_STATE = 42"
   ]
  },
  {
   "cell_type": "markdown",
   "metadata": {},
   "source": [
    "Данные с константами"
   ]
  },
  {
   "cell_type": "code",
   "execution_count": 3,
   "metadata": {},
   "outputs": [],
   "source": [
    "ALL_WELL = 500  # разведка скважин (кол-во)\n",
    "NUM = 200  # разработка скважин (кол-во)\n",
    "STORE = 10**10 # бюджет на разработку скважин в регионе\n",
    "PRICE = 450000  # прибыли с единиы целевого признака"
   ]
  },
  {
   "cell_type": "markdown",
   "metadata": {},
   "source": [
    "### Предобработка данных"
   ]
  },
  {
   "cell_type": "code",
   "execution_count": 4,
   "metadata": {},
   "outputs": [],
   "source": [
    "pth1 = 'https://code.s3.yandex.net/datasets/geo_data_0.csv'\n",
    "pth2 = 'https://code.s3.yandex.net/datasets/geo_data_1.csv'\n",
    "pth3 = 'https://code.s3.yandex.net/datasets/geo_data_2.csv'\n",
    "# if os.path.exists(pth1) and os.path.exists(pth2) and os.path.exists(pth3):\n",
    "#     data1 = pd.read_csv(pth1)\n",
    "#     data2 = pd.read_csv(pth2)\n",
    "#     data3 = pd.read_csv(pth3)\n",
    "# else:\n",
    "#     print('Something is wrong')\n",
    "# os.path.exists(pth2)"
   ]
  },
  {
   "cell_type": "code",
   "execution_count": 5,
   "metadata": {},
   "outputs": [],
   "source": [
    "try:\n",
    "    data1 = pd.read_csv(pth1)\n",
    "    data2 = pd.read_csv(pth2)\n",
    "    data3 = pd.read_csv(pth3)\n",
    "except:\n",
    "    print('Something is wrong')"
   ]
  },
  {
   "cell_type": "code",
   "execution_count": 6,
   "metadata": {},
   "outputs": [
    {
     "data": {
      "text/html": [
       "<div>\n",
       "<style scoped>\n",
       "    .dataframe tbody tr th:only-of-type {\n",
       "        vertical-align: middle;\n",
       "    }\n",
       "\n",
       "    .dataframe tbody tr th {\n",
       "        vertical-align: top;\n",
       "    }\n",
       "\n",
       "    .dataframe thead th {\n",
       "        text-align: right;\n",
       "    }\n",
       "</style>\n",
       "<table border=\"1\" class=\"dataframe\">\n",
       "  <thead>\n",
       "    <tr style=\"text-align: right;\">\n",
       "      <th></th>\n",
       "      <th>id</th>\n",
       "      <th>f0</th>\n",
       "      <th>f1</th>\n",
       "      <th>f2</th>\n",
       "      <th>product</th>\n",
       "    </tr>\n",
       "  </thead>\n",
       "  <tbody>\n",
       "    <tr>\n",
       "      <th>0</th>\n",
       "      <td>txEyH</td>\n",
       "      <td>0.705745</td>\n",
       "      <td>-0.497823</td>\n",
       "      <td>1.221170</td>\n",
       "      <td>105.280062</td>\n",
       "    </tr>\n",
       "    <tr>\n",
       "      <th>1</th>\n",
       "      <td>2acmU</td>\n",
       "      <td>1.334711</td>\n",
       "      <td>-0.340164</td>\n",
       "      <td>4.365080</td>\n",
       "      <td>73.037750</td>\n",
       "    </tr>\n",
       "    <tr>\n",
       "      <th>2</th>\n",
       "      <td>409Wp</td>\n",
       "      <td>1.022732</td>\n",
       "      <td>0.151990</td>\n",
       "      <td>1.419926</td>\n",
       "      <td>85.265647</td>\n",
       "    </tr>\n",
       "    <tr>\n",
       "      <th>3</th>\n",
       "      <td>iJLyR</td>\n",
       "      <td>-0.032172</td>\n",
       "      <td>0.139033</td>\n",
       "      <td>2.978566</td>\n",
       "      <td>168.620776</td>\n",
       "    </tr>\n",
       "    <tr>\n",
       "      <th>4</th>\n",
       "      <td>Xdl7t</td>\n",
       "      <td>1.988431</td>\n",
       "      <td>0.155413</td>\n",
       "      <td>4.751769</td>\n",
       "      <td>154.036647</td>\n",
       "    </tr>\n",
       "  </tbody>\n",
       "</table>\n",
       "</div>"
      ],
      "text/plain": [
       "      id        f0        f1        f2     product\n",
       "0  txEyH  0.705745 -0.497823  1.221170  105.280062\n",
       "1  2acmU  1.334711 -0.340164  4.365080   73.037750\n",
       "2  409Wp  1.022732  0.151990  1.419926   85.265647\n",
       "3  iJLyR -0.032172  0.139033  2.978566  168.620776\n",
       "4  Xdl7t  1.988431  0.155413  4.751769  154.036647"
      ]
     },
     "execution_count": 6,
     "metadata": {},
     "output_type": "execute_result"
    }
   ],
   "source": [
    "data1.head()"
   ]
  },
  {
   "cell_type": "code",
   "execution_count": 7,
   "metadata": {},
   "outputs": [
    {
     "name": "stdout",
     "output_type": "stream",
     "text": [
      "<class 'pandas.core.frame.DataFrame'>\n",
      "RangeIndex: 100000 entries, 0 to 99999\n",
      "Data columns (total 5 columns):\n",
      " #   Column   Non-Null Count   Dtype  \n",
      "---  ------   --------------   -----  \n",
      " 0   id       100000 non-null  object \n",
      " 1   f0       100000 non-null  float64\n",
      " 2   f1       100000 non-null  float64\n",
      " 3   f2       100000 non-null  float64\n",
      " 4   product  100000 non-null  float64\n",
      "dtypes: float64(4), object(1)\n",
      "memory usage: 3.8+ MB\n"
     ]
    }
   ],
   "source": [
    "data1.info()"
   ]
  },
  {
   "cell_type": "code",
   "execution_count": 8,
   "metadata": {},
   "outputs": [
    {
     "data": {
      "text/html": [
       "<div>\n",
       "<style scoped>\n",
       "    .dataframe tbody tr th:only-of-type {\n",
       "        vertical-align: middle;\n",
       "    }\n",
       "\n",
       "    .dataframe tbody tr th {\n",
       "        vertical-align: top;\n",
       "    }\n",
       "\n",
       "    .dataframe thead th {\n",
       "        text-align: right;\n",
       "    }\n",
       "</style>\n",
       "<table border=\"1\" class=\"dataframe\">\n",
       "  <thead>\n",
       "    <tr style=\"text-align: right;\">\n",
       "      <th></th>\n",
       "      <th>id</th>\n",
       "      <th>f0</th>\n",
       "      <th>f1</th>\n",
       "      <th>f2</th>\n",
       "      <th>product</th>\n",
       "    </tr>\n",
       "  </thead>\n",
       "  <tbody>\n",
       "    <tr>\n",
       "      <th>0</th>\n",
       "      <td>kBEdx</td>\n",
       "      <td>-15.001348</td>\n",
       "      <td>-8.276000</td>\n",
       "      <td>-0.005876</td>\n",
       "      <td>3.179103</td>\n",
       "    </tr>\n",
       "    <tr>\n",
       "      <th>1</th>\n",
       "      <td>62mP7</td>\n",
       "      <td>14.272088</td>\n",
       "      <td>-3.475083</td>\n",
       "      <td>0.999183</td>\n",
       "      <td>26.953261</td>\n",
       "    </tr>\n",
       "    <tr>\n",
       "      <th>2</th>\n",
       "      <td>vyE1P</td>\n",
       "      <td>6.263187</td>\n",
       "      <td>-5.948386</td>\n",
       "      <td>5.001160</td>\n",
       "      <td>134.766305</td>\n",
       "    </tr>\n",
       "    <tr>\n",
       "      <th>3</th>\n",
       "      <td>KcrkZ</td>\n",
       "      <td>-13.081196</td>\n",
       "      <td>-11.506057</td>\n",
       "      <td>4.999415</td>\n",
       "      <td>137.945408</td>\n",
       "    </tr>\n",
       "    <tr>\n",
       "      <th>4</th>\n",
       "      <td>AHL4O</td>\n",
       "      <td>12.702195</td>\n",
       "      <td>-8.147433</td>\n",
       "      <td>5.004363</td>\n",
       "      <td>134.766305</td>\n",
       "    </tr>\n",
       "  </tbody>\n",
       "</table>\n",
       "</div>"
      ],
      "text/plain": [
       "      id         f0         f1        f2     product\n",
       "0  kBEdx -15.001348  -8.276000 -0.005876    3.179103\n",
       "1  62mP7  14.272088  -3.475083  0.999183   26.953261\n",
       "2  vyE1P   6.263187  -5.948386  5.001160  134.766305\n",
       "3  KcrkZ -13.081196 -11.506057  4.999415  137.945408\n",
       "4  AHL4O  12.702195  -8.147433  5.004363  134.766305"
      ]
     },
     "execution_count": 8,
     "metadata": {},
     "output_type": "execute_result"
    }
   ],
   "source": [
    "data2.head(5)"
   ]
  },
  {
   "cell_type": "code",
   "execution_count": 9,
   "metadata": {},
   "outputs": [
    {
     "name": "stdout",
     "output_type": "stream",
     "text": [
      "<class 'pandas.core.frame.DataFrame'>\n",
      "RangeIndex: 100000 entries, 0 to 99999\n",
      "Data columns (total 5 columns):\n",
      " #   Column   Non-Null Count   Dtype  \n",
      "---  ------   --------------   -----  \n",
      " 0   id       100000 non-null  object \n",
      " 1   f0       100000 non-null  float64\n",
      " 2   f1       100000 non-null  float64\n",
      " 3   f2       100000 non-null  float64\n",
      " 4   product  100000 non-null  float64\n",
      "dtypes: float64(4), object(1)\n",
      "memory usage: 3.8+ MB\n"
     ]
    }
   ],
   "source": [
    "data2.info()"
   ]
  },
  {
   "cell_type": "code",
   "execution_count": 10,
   "metadata": {},
   "outputs": [
    {
     "data": {
      "text/html": [
       "<div>\n",
       "<style scoped>\n",
       "    .dataframe tbody tr th:only-of-type {\n",
       "        vertical-align: middle;\n",
       "    }\n",
       "\n",
       "    .dataframe tbody tr th {\n",
       "        vertical-align: top;\n",
       "    }\n",
       "\n",
       "    .dataframe thead th {\n",
       "        text-align: right;\n",
       "    }\n",
       "</style>\n",
       "<table border=\"1\" class=\"dataframe\">\n",
       "  <thead>\n",
       "    <tr style=\"text-align: right;\">\n",
       "      <th></th>\n",
       "      <th>id</th>\n",
       "      <th>f0</th>\n",
       "      <th>f1</th>\n",
       "      <th>f2</th>\n",
       "      <th>product</th>\n",
       "    </tr>\n",
       "  </thead>\n",
       "  <tbody>\n",
       "    <tr>\n",
       "      <th>0</th>\n",
       "      <td>fwXo0</td>\n",
       "      <td>-1.146987</td>\n",
       "      <td>0.963328</td>\n",
       "      <td>-0.828965</td>\n",
       "      <td>27.758673</td>\n",
       "    </tr>\n",
       "    <tr>\n",
       "      <th>1</th>\n",
       "      <td>WJtFt</td>\n",
       "      <td>0.262778</td>\n",
       "      <td>0.269839</td>\n",
       "      <td>-2.530187</td>\n",
       "      <td>56.069697</td>\n",
       "    </tr>\n",
       "    <tr>\n",
       "      <th>2</th>\n",
       "      <td>ovLUW</td>\n",
       "      <td>0.194587</td>\n",
       "      <td>0.289035</td>\n",
       "      <td>-5.586433</td>\n",
       "      <td>62.871910</td>\n",
       "    </tr>\n",
       "    <tr>\n",
       "      <th>3</th>\n",
       "      <td>q6cA6</td>\n",
       "      <td>2.236060</td>\n",
       "      <td>-0.553760</td>\n",
       "      <td>0.930038</td>\n",
       "      <td>114.572842</td>\n",
       "    </tr>\n",
       "    <tr>\n",
       "      <th>4</th>\n",
       "      <td>WPMUX</td>\n",
       "      <td>-0.515993</td>\n",
       "      <td>1.716266</td>\n",
       "      <td>5.899011</td>\n",
       "      <td>149.600746</td>\n",
       "    </tr>\n",
       "  </tbody>\n",
       "</table>\n",
       "</div>"
      ],
      "text/plain": [
       "      id        f0        f1        f2     product\n",
       "0  fwXo0 -1.146987  0.963328 -0.828965   27.758673\n",
       "1  WJtFt  0.262778  0.269839 -2.530187   56.069697\n",
       "2  ovLUW  0.194587  0.289035 -5.586433   62.871910\n",
       "3  q6cA6  2.236060 -0.553760  0.930038  114.572842\n",
       "4  WPMUX -0.515993  1.716266  5.899011  149.600746"
      ]
     },
     "execution_count": 10,
     "metadata": {},
     "output_type": "execute_result"
    }
   ],
   "source": [
    "data3.head()"
   ]
  },
  {
   "cell_type": "code",
   "execution_count": 11,
   "metadata": {},
   "outputs": [
    {
     "name": "stdout",
     "output_type": "stream",
     "text": [
      "<class 'pandas.core.frame.DataFrame'>\n",
      "RangeIndex: 100000 entries, 0 to 99999\n",
      "Data columns (total 5 columns):\n",
      " #   Column   Non-Null Count   Dtype  \n",
      "---  ------   --------------   -----  \n",
      " 0   id       100000 non-null  object \n",
      " 1   f0       100000 non-null  float64\n",
      " 2   f1       100000 non-null  float64\n",
      " 3   f2       100000 non-null  float64\n",
      " 4   product  100000 non-null  float64\n",
      "dtypes: float64(4), object(1)\n",
      "memory usage: 3.8+ MB\n"
     ]
    }
   ],
   "source": [
    "data3.info()"
   ]
  },
  {
   "cell_type": "markdown",
   "metadata": {},
   "source": [
    "Данные загружены, пропусков в данных не обнаружено, стоит проверить дубликаты по id. Количество записей в каждом файле - 10 тыс штук(скважин)"
   ]
  },
  {
   "cell_type": "code",
   "execution_count": 12,
   "metadata": {},
   "outputs": [
    {
     "data": {
      "text/plain": [
       "id          99990\n",
       "f0         100000\n",
       "f1         100000\n",
       "f2         100000\n",
       "product    100000\n",
       "dtype: int64"
      ]
     },
     "execution_count": 12,
     "metadata": {},
     "output_type": "execute_result"
    }
   ],
   "source": [
    "data1.nunique()"
   ]
  },
  {
   "cell_type": "code",
   "execution_count": 13,
   "metadata": {},
   "outputs": [
    {
     "data": {
      "text/plain": [
       "id          99996\n",
       "f0         100000\n",
       "f1         100000\n",
       "f2         100000\n",
       "product        12\n",
       "dtype: int64"
      ]
     },
     "execution_count": 13,
     "metadata": {},
     "output_type": "execute_result"
    }
   ],
   "source": [
    "data2.nunique()"
   ]
  },
  {
   "cell_type": "code",
   "execution_count": 14,
   "metadata": {},
   "outputs": [
    {
     "data": {
      "text/plain": [
       "id          99996\n",
       "f0         100000\n",
       "f1         100000\n",
       "f2         100000\n",
       "product    100000\n",
       "dtype: int64"
      ]
     },
     "execution_count": 14,
     "metadata": {},
     "output_type": "execute_result"
    }
   ],
   "source": [
    "data3.nunique()"
   ]
  },
  {
   "cell_type": "markdown",
   "metadata": {},
   "source": [
    "Во всех данных есть дубликаты по id, возможно проблема в регистре, но так как записей меньше (или равно) 10 штук из 100 тыс их лучше убрать. Также есть проблема во втором сете, там всего 12 уникальных значений по целевому признаку (объём запасов в скважине). Возможно, это приведёт к большим проблемам в процессе обучения модели"
   ]
  },
  {
   "cell_type": "markdown",
   "metadata": {},
   "source": [
    "Устраним дубликаты по id  из каждого набора данных"
   ]
  },
  {
   "cell_type": "code",
   "execution_count": 15,
   "metadata": {},
   "outputs": [
    {
     "data": {
      "text/plain": [
       "(99990, 5)"
      ]
     },
     "execution_count": 15,
     "metadata": {},
     "output_type": "execute_result"
    }
   ],
   "source": [
    "for df in [data1,data2,data3]:\n",
    "    df.drop_duplicates(subset='id',inplace=True)\n",
    "data1.shape"
   ]
  },
  {
   "cell_type": "markdown",
   "metadata": {},
   "source": [
    "Дубликаты удалены. в целом предобработка данных завершена. Можно переходить к исследовательскому анализу данных и разбираться в данных здесь"
   ]
  },
  {
   "cell_type": "code",
   "execution_count": 16,
   "metadata": {},
   "outputs": [
    {
     "name": "stdout",
     "output_type": "stream",
     "text": [
      "0\n",
      "0\n",
      "0\n"
     ]
    }
   ],
   "source": [
    "for df in [data1,data2,data3]:\n",
    "    print(df.duplicated().sum())"
   ]
  },
  {
   "cell_type": "markdown",
   "metadata": {},
   "source": [
    "### Исследовательский анализ данных"
   ]
  },
  {
   "cell_type": "code",
   "execution_count": 17,
   "metadata": {
    "scrolled": false
   },
   "outputs": [
    {
     "data": {
      "image/png": "[encoded data removed]",
      "text/plain": [
       "<Figure size 576x432 with 1 Axes>"
      ]
     },
     "metadata": {
      "needs_background": "light"
     },
     "output_type": "display_data"
    },
    {
     "data": {
      "image/png": "[encoded data removed]",
      "text/plain": [
       "<Figure size 576x432 with 1 Axes>"
      ]
     },
     "metadata": {
      "needs_background": "light"
     },
     "output_type": "display_data"
    },
    {
     "data": {
      "image/png": "[encoded data removed]",
      "text/plain": [
       "<Figure size 576x432 with 1 Axes>"
      ]
     },
     "metadata": {
      "needs_background": "light"
     },
     "output_type": "display_data"
    },
    {
     "data": {
      "image/png": "[encoded data removed]",
      "text/plain": [
       "<Figure size 576x432 with 1 Axes>"
      ]
     },
     "metadata": {
      "needs_background": "light"
     },
     "output_type": "display_data"
    },
    {
     "data": {
      "image/png": "[encoded data removed]",
      "text/plain": [
       "<Figure size 576x432 with 1 Axes>"
      ]
     },
     "metadata": {
      "needs_background": "light"
     },
     "output_type": "display_data"
    },
    {
     "data": {
      "image/png": "[encoded data removed]",
      "text/plain": [
       "<Figure size 576x432 with 1 Axes>"
      ]
     },
     "metadata": {
      "needs_background": "light"
     },
     "output_type": "display_data"
    },
    {
     "data": {
      "image/png": "[encoded data removed]",
      "text/plain": [
       "<Figure size 576x432 with 1 Axes>"
      ]
     },
     "metadata": {
      "needs_background": "light"
     },
     "output_type": "display_data"
    },
    {
     "data": {
      "image/png": "[encoded data removed]",
      "text/plain": [
       "<Figure size 576x432 with 1 Axes>"
      ]
     },
     "metadata": {
      "needs_background": "light"
     },
     "output_type": "display_data"
    },
    {
     "data": {
      "image/png": "[encoded data removed]",
      "text/plain": [
       "<Figure size 576x432 with 1 Axes>"
      ]
     },
     "metadata": {
      "needs_background": "light"
     },
     "output_type": "display_data"
    },
    {
     "data": {
      "image/png": "[encoded data removed]",
      "text/plain": [
       "<Figure size 576x432 with 1 Axes>"
      ]
     },
     "metadata": {
      "needs_background": "light"
     },
     "output_type": "display_data"
    },
    {
     "data": {
      "image/png": "[encoded data removed]",
      "text/plain": [
       "<Figure size 576x432 with 1 Axes>"
      ]
     },
     "metadata": {
      "needs_background": "light"
     },
     "output_type": "display_data"
    },
    {
     "data": {
      "image/png": "[encoded data removed]",
      "text/plain": [
       "<Figure size 576x432 with 1 Axes>"
      ]
     },
     "metadata": {
      "needs_background": "light"
     },
     "output_type": "display_data"
    }
   ],
   "source": [
    "cols = ['f0','f1','f2','product']\n",
    "i = 1\n",
    "for data in [data1,data2,data3]:\n",
    "    for col in cols:\n",
    "        data[col].hist(bins=50,figsize=(8,6),color='#73A9AD')\n",
    "        plt.title(f'Гистограмма распределения признака {col}  для региона {i}',pad=10,size=18)\n",
    "        plt.ylabel('Количество скважин')\n",
    "        plt.xlabel(f'Признак {col}')\n",
    "        plt.show()\n",
    "    i+=1\n",
    "    "
   ]
  },
  {
   "cell_type": "markdown",
   "metadata": {},
   "source": [
    "На графиках много интересного! Охарактеризуем каждый регион отдельно\n",
    "\n",
    "Первый регион:\n",
    "   * Первый признак распределени полимодальное (есть 4 пика)\n",
    "   * Второй признак также полимодален (3 моды)\n",
    "   * Третий признак распредедён нормально\n",
    "   * Распределение целевого признака достаточно сложное\n",
    "   \n",
    "    Первичные выводы: Модели линейной регрессии, возможно, будет непросто улавливать связь между признакми, распределёнными таким образом, далее посмотрим на матрицу корреляций\n",
    "    \n",
    "Второй регион:\n",
    "   * Первый признак распределён бимодально\n",
    "   * Второй признак распределён нормально\n",
    "   * Третий признак распределён дискретно \n",
    "   * Распределение целевого признака также дискретно (принимает всего 12 уникальных значений)\n",
    "   \n",
    "Третий регион:\n",
    "\n",
    "  * Все признакми распределены нормально\n",
    "  * Целевой признак распределён бимодально\n",
    "\n",
    "Выбросов в данных нет, множество данных имеет сложное распределение, отличное от нормального, стоит посмотреть на матрицу корреляций \n",
    "   "
   ]
  },
  {
   "cell_type": "code",
   "execution_count": 18,
   "metadata": {
    "scrolled": false
   },
   "outputs": [
    {
     "name": "stdout",
     "output_type": "stream",
     "text": [
      "interval columns not set, guessing: ['f0', 'f1', 'f2', 'product']\n"
     ]
    },
    {
     "data": {
      "image/png": "[encoded data removed]",
      "text/plain": [
       "<Figure size 1440x1080 with 2 Axes>"
      ]
     },
     "metadata": {
      "needs_background": "light"
     },
     "output_type": "display_data"
    },
    {
     "name": "stdout",
     "output_type": "stream",
     "text": [
      "interval columns not set, guessing: ['f0', 'f1', 'f2', 'product']\n"
     ]
    },
    {
     "data": {
      "image/png": "[encoded data removed]",
      "text/plain": [
       "<Figure size 1440x1080 with 2 Axes>"
      ]
     },
     "metadata": {
      "needs_background": "light"
     },
     "output_type": "display_data"
    },
    {
     "name": "stdout",
     "output_type": "stream",
     "text": [
      "interval columns not set, guessing: ['f0', 'f1', 'f2', 'product']\n"
     ]
    },
    {
     "data": {
      "image/png": "[encoded data removed]",
      "text/plain": [
       "<Figure size 1440x1080 with 2 Axes>"
      ]
     },
     "metadata": {
      "needs_background": "light"
     },
     "output_type": "display_data"
    }
   ],
   "source": [
    "i = 1\n",
    "for data in [data1,data2,data3]:\n",
    "    phik_matrix = data.drop('id',axis=1).phik_matrix()\n",
    "    plot_correlation_matrix(\n",
    "    phik_matrix.values,\n",
    "    y_labels=phik_matrix.index,\n",
    "    x_labels=phik_matrix.columns,\n",
    "    vmin=0,vmax=1,\n",
    "    figsize=(20,15),\n",
    "    fontsize_factor=1.5,\n",
    "    color_map='Greens'\n",
    "    )\n",
    "    plt.title(f'Общая матрица корреляции для {i} сета данных',size=20)\n",
    "    plt.show()\n",
    "    i+=1\n"
   ]
  },
  {
   "cell_type": "markdown",
   "metadata": {},
   "source": [
    "Первый и третий набор данных похожи по корреляционному анализу, и сильно отличаются от второго набора данных, у которого практически 100% корреляция между целевым и f2 признаком. При этом в первом сете довольно большая корреляция между признаком f1 и f0, в третьем сете данных такой корреляции нет - все это, скорее всего, будет влиять на разную признаковую значимость при обучении модели и в её интерпретируемости."
   ]
  },
  {
   "cell_type": "markdown",
   "metadata": {},
   "source": [
    "## Обучение и проверка модели"
   ]
  },
  {
   "cell_type": "markdown",
   "metadata": {},
   "source": [
    "Обучите и проверьте модель для каждого региона:\n",
    "\n",
    " * 2.1. Разбейте данные на обучающую и валидационную выборки в соотношении 75:25.\n",
    " \n",
    " * 2.2. Обучите модель и сделайте предсказания на валидационной выборке.\n",
    "\n",
    " * 2.3. Сохраните предсказания и правильные ответы на валидационной выборке.\n",
    " \n",
    " * 2.4. Напечатайте на экране средний запас предсказанного сырья и RMSE модели."
   ]
  },
  {
   "cell_type": "markdown",
   "metadata": {},
   "source": [
    "Обучение модели будем проводить с помощью пайплайна, используем несколкьо кодировщиков и гиперпараметров при обучении модели линейной регрессии. Всего получится три модели - по одной для каждого региона"
   ]
  },
  {
   "cell_type": "code",
   "execution_count": 19,
   "metadata": {},
   "outputs": [],
   "source": [
    "data1 = data1.set_index('id')\n",
    "data2 = data2.set_index('id')\n",
    "data3 = data3.set_index('id')"
   ]
  },
  {
   "cell_type": "code",
   "execution_count": 20,
   "metadata": {},
   "outputs": [
    {
     "data": {
      "text/html": [
       "<div>\n",
       "<style scoped>\n",
       "    .dataframe tbody tr th:only-of-type {\n",
       "        vertical-align: middle;\n",
       "    }\n",
       "\n",
       "    .dataframe tbody tr th {\n",
       "        vertical-align: top;\n",
       "    }\n",
       "\n",
       "    .dataframe thead th {\n",
       "        text-align: right;\n",
       "    }\n",
       "</style>\n",
       "<table border=\"1\" class=\"dataframe\">\n",
       "  <thead>\n",
       "    <tr style=\"text-align: right;\">\n",
       "      <th></th>\n",
       "      <th>f0</th>\n",
       "      <th>f1</th>\n",
       "      <th>f2</th>\n",
       "      <th>product</th>\n",
       "    </tr>\n",
       "    <tr>\n",
       "      <th>id</th>\n",
       "      <th></th>\n",
       "      <th></th>\n",
       "      <th></th>\n",
       "      <th></th>\n",
       "    </tr>\n",
       "  </thead>\n",
       "  <tbody>\n",
       "    <tr>\n",
       "      <th>txEyH</th>\n",
       "      <td>0.705745</td>\n",
       "      <td>-0.497823</td>\n",
       "      <td>1.221170</td>\n",
       "      <td>105.280062</td>\n",
       "    </tr>\n",
       "    <tr>\n",
       "      <th>2acmU</th>\n",
       "      <td>1.334711</td>\n",
       "      <td>-0.340164</td>\n",
       "      <td>4.365080</td>\n",
       "      <td>73.037750</td>\n",
       "    </tr>\n",
       "    <tr>\n",
       "      <th>409Wp</th>\n",
       "      <td>1.022732</td>\n",
       "      <td>0.151990</td>\n",
       "      <td>1.419926</td>\n",
       "      <td>85.265647</td>\n",
       "    </tr>\n",
       "    <tr>\n",
       "      <th>iJLyR</th>\n",
       "      <td>-0.032172</td>\n",
       "      <td>0.139033</td>\n",
       "      <td>2.978566</td>\n",
       "      <td>168.620776</td>\n",
       "    </tr>\n",
       "    <tr>\n",
       "      <th>Xdl7t</th>\n",
       "      <td>1.988431</td>\n",
       "      <td>0.155413</td>\n",
       "      <td>4.751769</td>\n",
       "      <td>154.036647</td>\n",
       "    </tr>\n",
       "  </tbody>\n",
       "</table>\n",
       "</div>"
      ],
      "text/plain": [
       "             f0        f1        f2     product\n",
       "id                                             \n",
       "txEyH  0.705745 -0.497823  1.221170  105.280062\n",
       "2acmU  1.334711 -0.340164  4.365080   73.037750\n",
       "409Wp  1.022732  0.151990  1.419926   85.265647\n",
       "iJLyR -0.032172  0.139033  2.978566  168.620776\n",
       "Xdl7t  1.988431  0.155413  4.751769  154.036647"
      ]
     },
     "execution_count": 20,
     "metadata": {},
     "output_type": "execute_result"
    }
   ],
   "source": [
    "data1.head()"
   ]
  },
  {
   "cell_type": "code",
   "execution_count": 21,
   "metadata": {},
   "outputs": [],
   "source": [
    "cols = ['f0','f1','f2']\n",
    "data_preprocessor = ColumnTransformer(\n",
    "    [\n",
    "        ('num',StandardScaler(),cols)\n",
    "    ],\n",
    "    remainder='passthrough'\n",
    ")\n",
    "\n",
    "pipe_final = Pipeline(\n",
    "[\n",
    "    ('preprocessor',data_preprocessor),\n",
    "    ('models',LinearRegression())\n",
    "])\n",
    "\n",
    "param_grid = {\n",
    "    'preprocessor__num':[StandardScaler(),RobustScaler(),MinMaxScaler()]\n",
    "}"
   ]
  },
  {
   "cell_type": "code",
   "execution_count": 22,
   "metadata": {},
   "outputs": [],
   "source": [
    "def make_conclusion(data,i):\n",
    "    print(f'РЕГИОН {i}')\n",
    "    X_train,X_valid,y_train,y_valid = train_test_split(data.drop('product',axis=1),data['product'],random_state=RANDOM_STATE,\n",
    "                                                      test_size=0.25)\n",
    "    grid = GridSearchCV(pipe_final,param_grid=param_grid,cv=5,scoring='neg_root_mean_squared_error')\n",
    "    grid.fit(X_train,y_train)\n",
    "    print(f'Значение коэффициента RMSE для модели линейной регресии при кросс валидации равно',grid.best_score_*(-1))\n",
    "    print()\n",
    "    y_pred = grid.best_estimator_.predict(X_valid)\n",
    "    print('Описательные статистики предсказания')\n",
    "    print(pd.Series(y_pred).describe())\n",
    "    print()\n",
    "    print('Описательные статистики истинных значений')\n",
    "    print(y_valid.describe())\n",
    "    print()\n",
    "    rmse = mean_squared_error(y_valid,y_pred,squared=False)\n",
    "    print(f'RMSE модели на валидационной выборке равна',rmse)\n",
    "    print('\\n'*5)\n",
    "    return grid,y_valid,y_pred    #для стат теста, рассчёт арисков и прибыли и построения графиков вернём кортеж из трёх значений\n",
    "    "
   ]
  },
  {
   "cell_type": "code",
   "execution_count": 23,
   "metadata": {},
   "outputs": [
    {
     "name": "stdout",
     "output_type": "stream",
     "text": [
      "РЕГИОН 1\n",
      "Значение коэффициента RMSE для модели линейной регресии при кросс валидации равно 37.69686738290523\n",
      "\n",
      "Описательные статистики предсказания\n",
      "count    24998.000000\n",
      "mean        92.609840\n",
      "std         23.048720\n",
      "min         -9.601984\n",
      "25%         76.947467\n",
      "50%         92.602307\n",
      "75%        108.168283\n",
      "max        185.493743\n",
      "dtype: float64\n",
      "\n",
      "Описательные статистики истинных значений\n",
      "count    24998.000000\n",
      "mean        92.388766\n",
      "std         44.245716\n",
      "min          0.024830\n",
      "25%         56.453897\n",
      "50%         91.522064\n",
      "75%        128.368812\n",
      "max        185.344675\n",
      "Name: product, dtype: float64\n",
      "\n",
      "RMSE модели на валидационной выборке равна 37.68508926201444\n",
      "\n",
      "\n",
      "\n",
      "\n",
      "\n",
      "\n",
      "РЕГИОН 2\n",
      "Значение коэффициента RMSE для модели линейной регресии при кросс валидации равно 0.8896094467301927\n",
      "\n",
      "Описательные статистики предсказания\n",
      "count    24999.000000\n",
      "mean        68.577035\n",
      "std         45.949710\n",
      "min         -2.062961\n",
      "25%         28.572600\n",
      "50%         57.688601\n",
      "75%        109.266309\n",
      "max        139.696959\n",
      "dtype: float64\n",
      "\n",
      "Описательные статистики истинных значений\n",
      "count    24999.000000\n",
      "mean        68.583616\n",
      "std         45.964615\n",
      "min          0.000000\n",
      "25%         26.953261\n",
      "50%         57.085625\n",
      "75%        107.813044\n",
      "max        137.945408\n",
      "Name: product, dtype: float64\n",
      "\n",
      "RMSE модели на валидационной выборке равна 0.8928265978121422\n",
      "\n",
      "\n",
      "\n",
      "\n",
      "\n",
      "\n",
      "РЕГИОН 3\n",
      "Значение коэффициента RMSE для модели линейной регресии при кросс валидации равно 40.04773914637898\n",
      "\n",
      "Описательные статистики предсказания\n",
      "count    24999.000000\n",
      "mean        94.934787\n",
      "std         19.869490\n",
      "min         16.070555\n",
      "25%         81.551063\n",
      "50%         94.841317\n",
      "75%        108.385788\n",
      "max        163.843295\n",
      "dtype: float64\n",
      "\n",
      "Описательные статистики истинных значений\n",
      "count    24999.000000\n",
      "mean        95.254637\n",
      "std         44.668966\n",
      "min          0.028097\n",
      "25%         59.575361\n",
      "50%         95.447759\n",
      "75%        130.374307\n",
      "max        190.011722\n",
      "Name: product, dtype: float64\n",
      "\n",
      "RMSE модели на валидационной выборке равна 40.080822438088305\n",
      "\n",
      "\n",
      "\n",
      "\n",
      "\n",
      "\n"
     ]
    }
   ],
   "source": [
    "grid1, y_valid1, y_pred1 = make_conclusion(data1,1)\n",
    "grid2, y_valid2, y_pred2 = make_conclusion(data2,2)\n",
    "grid3, y_valid3, y_pred3 = make_conclusion(data3,3)"
   ]
  },
  {
   "cell_type": "code",
   "execution_count": 24,
   "metadata": {},
   "outputs": [
    {
     "data": {
      "image/png": "[encoded data removed]",
      "text/plain": [
       "<Figure size 864x576 with 1 Axes>"
      ]
     },
     "metadata": {},
     "output_type": "display_data"
    }
   ],
   "source": [
    "sns.set_style('white')\n",
    "feature_importances = pd.DataFrame({'Features':['f0','f1','f2'],'Importances':grid1.best_estimator_._final_estimator.coef_})\n",
    "feature_importances = feature_importances.sort_values(by='Importances',ascending=True)\n",
    "feature_importances.plot(x='Features',y='Importances',kind='barh',figsize=(12,8))\n",
    "plt.title('Значимость признаков модели для первого регоина',size=16)\n",
    "plt.xlabel('Вес признака, ед.')\n",
    "plt.ylabel('Признаки')\n",
    "plt.show()"
   ]
  },
  {
   "cell_type": "code",
   "execution_count": 25,
   "metadata": {},
   "outputs": [
    {
     "data": {
      "image/png": "[encoded data removed]",
      "text/plain": [
       "<Figure size 864x576 with 1 Axes>"
      ]
     },
     "metadata": {},
     "output_type": "display_data"
    }
   ],
   "source": [
    "sns.set_style('white')\n",
    "feature_importances = pd.DataFrame({'Features':['f0','f1','f2'],'Importances':grid2.best_estimator_._final_estimator.coef_})\n",
    "feature_importances = feature_importances.sort_values(by='Importances',ascending=True)\n",
    "feature_importances.plot(x='Features',y='Importances',kind='barh',figsize=(12,8))\n",
    "plt.title('Значимость признаков модели для второго региона',size=16)\n",
    "plt.xlabel('Вес признака, ед.')\n",
    "plt.ylabel('Признаки')\n",
    "plt.show()"
   ]
  },
  {
   "cell_type": "code",
   "execution_count": 26,
   "metadata": {},
   "outputs": [
    {
     "data": {
      "image/png": "[encoded data removed]",
      "text/plain": [
       "<Figure size 864x576 with 1 Axes>"
      ]
     },
     "metadata": {},
     "output_type": "display_data"
    }
   ],
   "source": [
    "sns.set_style('white')\n",
    "feature_importances = pd.DataFrame({'Features':['f0','f1','f2'],'Importances':grid3.best_estimator_._final_estimator.coef_})\n",
    "feature_importances = feature_importances.sort_values(by='Importances',ascending=True)\n",
    "feature_importances.plot(x='Features',y='Importances',kind='barh',figsize=(12,8))\n",
    "plt.title('Значимость признаков модели для третьего региона',size=16)\n",
    "plt.xlabel('Вес признака, ед.')\n",
    "plt.ylabel('Признаки')\n",
    "plt.show()"
   ]
  },
  {
   "cell_type": "markdown",
   "metadata": {},
   "source": [
    "Лучшей моделью линейной регресии оказалась модель второго региона, точность очень высокая, вероятно это связано с очень высокой корреляцией между целевым признаком и признаком f2. Во всех трёх моделях самым значимым оказался именно признак f2, однако корреляция между ним в первом и третьем регионах гораздо ниже, а распределения признаков и целевого не похожи на нормальные, поэтому результаты метрики RMSE очень высокие (модели предсказыаают очень плохо на этих регионах)"
   ]
  },
  {
   "cell_type": "markdown",
   "metadata": {},
   "source": [
    "Посмотрим на предсказания на валидационной выборке"
   ]
  },
  {
   "cell_type": "markdown",
   "metadata": {},
   "source": [
    "Ситуация вышла интересная - надёжнее прогнозировать по второму региону, так как RMSE низкая, а точность прогнозов высокая, но вот среднее значение целевого признака гораздо ниже, чем у первого и третьего регионов (68 против 92 и 95 тыс баррелей), соответственно, выручка будет ниже, риск тоже. Проведём два статтета, чтобы убедиться, что средние значения у третьего и первого регона выше, чем у второго. "
   ]
  },
  {
   "cell_type": "markdown",
   "metadata": {},
   "source": [
    "Будем проверять гипотезы. Нулевая гипотеза - среднее значение первого и второго регионов одинаковы. Альтернативная - односторонняя гипотеза о том, чтосреднее значение целевого признака первой выборки выше. Введём 10% уровень значимости"
   ]
  },
  {
   "cell_type": "code",
   "execution_count": 27,
   "metadata": {},
   "outputs": [
    {
     "name": "stdout",
     "output_type": "stream",
     "text": [
      "Отвергаем нулевую гипотезу, среднее выборочное значение целевого признака первого региона выше, чем второго\n"
     ]
    }
   ],
   "source": [
    "alpha = 0.05\n",
    "result = ttest_ind(y_valid1,y_valid2,alternative='greater')\n",
    "pvalue = result.pvalue\n",
    "if pvalue < alpha:\n",
    "    print('Отвергаем нулевую гипотезу, среднее выборочное значение целевого признака первого региона выше, чем второго')\n",
    "else:\n",
    "    print('Нулевая гипотеза не отвергается')"
   ]
  },
  {
   "cell_type": "code",
   "execution_count": 28,
   "metadata": {},
   "outputs": [
    {
     "name": "stdout",
     "output_type": "stream",
     "text": [
      "Отвергаем нулевую гипотезу, среднее выборочное значение целевого признака третьего региона выше, чем второго\n"
     ]
    }
   ],
   "source": [
    "alpha = 0.05\n",
    "result = ttest_ind(y_valid3,y_valid2,alternative='greater')\n",
    "pvalue = result.pvalue\n",
    "if pvalue < alpha:\n",
    "    print('Отвергаем нулевую гипотезу, среднее выборочное значение целевого признака третьего региона выше, чем второго')\n",
    "else:\n",
    "    print('Нулевая гипотеза не отвергается')"
   ]
  },
  {
   "cell_type": "markdown",
   "metadata": {},
   "source": [
    "Выводы:\n",
    "\n",
    "На основе проведённого анализа данных и моделей можно сделать вывод о том, что первый и третий регионы являются более рискованными для предсказания целевого признака, но с более высоким средним. Второй же регион лучше прогнозируется моделью линейной регресси по целевому признаку, но в среднем даёт меньшее значение. Рассчёт прибыли и рисков даст нам лучше понять, каокой регион для наших целей и задач предпочтительнее."
   ]
  },
  {
   "cell_type": "markdown",
   "metadata": {},
   "source": [
    "## Подготовка к расчёту прибыли"
   ]
  },
  {
   "cell_type": "markdown",
   "metadata": {},
   "source": [
    "Прежде, чем заняться рассчётом прибыли, приведу условия задачи и создам глобальные переменные\n",
    "\n",
    "Условия задачи:\n",
    "\n",
    "* Для обучения модели подходит только линейная регрессия (остальные — недостаточно предсказуемые).\n",
    "* При разведке региона исследуют 500 точек, из которых с помощью машинного обучения выбирают 200 лучших для разработки.\n",
    "* Бюджет на разработку скважин в регионе — 10 млрд рублей.\n",
    "* При нынешних ценах один баррель сырья приносит 450 рублей дохода. Доход с каждой единицы продукта составляет 450 тыс. рублей, поскольку объём указан в тысячах баррелей.\n",
    "* После оценки рисков нужно оставить лишь те регионы, в которых вероятность убытков меньше 2.5%. Среди них выбирают регион с наибольшей средней прибылью."
   ]
  },
  {
   "cell_type": "markdown",
   "metadata": {},
   "source": [
    "3.2. Рассчитайте достаточный объём сырья для безубыточной разработки новой скважины. Сравните полученный объём сырья со средним запасом в каждом регионе. "
   ]
  },
  {
   "cell_type": "code",
   "execution_count": 29,
   "metadata": {},
   "outputs": [
    {
     "name": "stdout",
     "output_type": "stream",
     "text": [
      "Достаточное количество тыс баррелей нефти для безубыточной разработки региона:  22222.22\n"
     ]
    }
   ],
   "source": [
    "enough_quantity = STORE/PRICE\n",
    "print('Достаточное количество тыс баррелей нефти для безубыточной разработки региона: ',round(enough_quantity,2))"
   ]
  },
  {
   "cell_type": "code",
   "execution_count": 30,
   "metadata": {},
   "outputs": [
    {
     "name": "stdout",
     "output_type": "stream",
     "text": [
      " Среднее количество с одной скважины для безубыточной разработки региона:  111.11\n"
     ]
    }
   ],
   "source": [
    "print(' Среднее количество с одной скважины для безубыточной разработки региона: ',round(enough_quantity/NUM,2))"
   ]
  },
  {
   "cell_type": "markdown",
   "metadata": {},
   "source": [
    "Сравним среднее значение запаса в каждом регионе (среднее значение целевого признака каждого региона умнножим на 200 скважин)"
   ]
  },
  {
   "cell_type": "code",
   "execution_count": 31,
   "metadata": {},
   "outputs": [
    {
     "name": "stdout",
     "output_type": "stream",
     "text": [
      "Средний запас в 1 регионе на 200 скважин равен 18477.753187190923\n",
      "Средний запас в 2 регионе на 200 скважин равен 13716.723182123284\n",
      "Средний запас в 3 регионе на 200 скважин равен 19050.927343317686\n"
     ]
    }
   ],
   "source": [
    "for i in range(1,4):\n",
    "    print(f'Средний запас в {i} регионе на 200 скважин равен {eval(f\"y_valid{i}.mean()\")*200}')"
   ]
  },
  {
   "cell_type": "markdown",
   "metadata": {},
   "source": [
    "Выходит, что если брать средние значения по целевому признаку каждого региона, то разработка региона не окупится!"
   ]
  },
  {
   "cell_type": "markdown",
   "metadata": {},
   "source": [
    "Выводы:\n",
    "\n",
    "Для того, чтобы разработка региона со скважинами (200 штук) окупилась необходимо найти скважины с максимальным значением целевого признака, если брать среднее значение, то разработка ни одного региона не окупится. Для того, чтобы разработка окупилась нам необходимо не менее 22223 тыс баррелей с 200 скважин. Каждая в среднем должна приносить 112 тыс баррелей"
   ]
  },
  {
   "cell_type": "markdown",
   "metadata": {},
   "source": [
    "## Расчёт прибыли и рисков "
   ]
  },
  {
   "cell_type": "markdown",
   "metadata": {},
   "source": [
    "Напишите функцию для расчёта прибыли по выбранным скважинам и предсказаниям модели:\n",
    "* 4.1. Выберите скважины с максимальными значениями предсказаний. \n",
    "* 4.2. Просуммируйте целевое значение объёма сырья, соответствующее этим предсказаниям.\n",
    "* 4.3. Рассчитайте прибыль для полученного объёма сырья."
   ]
  },
  {
   "cell_type": "code",
   "execution_count": 32,
   "metadata": {},
   "outputs": [],
   "source": [
    "def revenue(pred_data,true_data,count):\n",
    "    result = pred_data.sort_values(ascending=False)\n",
    "    result = result.head(count).index\n",
    "    result = true_data[result]\n",
    "    return (result*PRICE).sum()\n",
    "# Прибыль считаем по фатическому значению, а не предсказаному"
   ]
  },
  {
   "cell_type": "markdown",
   "metadata": {},
   "source": [
    "Посчитайте риски и прибыль для каждого региона:\n",
    "* 5.1. Примените технику Bootstrap с 1000 выборок, чтобы найти распределение прибыли.\n",
    "* 5.2. Найдите среднюю прибыль, 95%-й доверительный интервал и риск убытков. Убыток — это отрицательная прибыль.\n",
    "* 5.3. Напишите выводы: предложите регион для разработки скважин и обоснуйте выбор."
   ]
  },
  {
   "cell_type": "code",
   "execution_count": 33,
   "metadata": {},
   "outputs": [
    {
     "name": "stdout",
     "output_type": "stream",
     "text": [
      "Среднее значение прибыли для 1 региона равно 10.42 млрд\n",
      "95% Доверительный интервал 1 региона равен от 10.4 млрд до 10.43 млрд\n",
      "Риск убытков для 1 региона равен  5.8999999999999995 %\n",
      "\n",
      "Среднее значение прибыли для 2 региона равно 10.44 млрд\n",
      "95% Доверительный интервал 2 региона равен от 10.42 млрд до 10.45 млрд\n",
      "Риск убытков для 2 региона равен  1.9 %\n",
      "\n",
      "Среднее значение прибыли для 3 региона равно 10.36 млрд\n",
      "95% Доверительный интервал 3 региона равен от 10.34 млрд до 10.37 млрд\n",
      "Риск убытков для 3 региона равен  9.8 %\n",
      "\n"
     ]
    }
   ],
   "source": [
    "state = np.random.RandomState(12345)\n",
    "j = 1\n",
    "for y in zip([y_pred1,y_pred2,y_pred3],[y_valid1,y_valid2,y_valid3]):\n",
    "    values = []\n",
    "    for i in range(1000):\n",
    "            new_data = pd.Series(y[0]).sample(500,random_state=state,replace=True) # 500 точек для разведки\n",
    "            new_data_result = revenue(new_data,y[1],200)\n",
    "            values.append(new_data_result)\n",
    "    values = pd.Series(values)\n",
    "    print(f'Среднее значение прибыли для {j} региона равно {round(values.mean()/10**9,2)} млрд')\n",
    "    interval_ = t.interval(alpha=0.95,df=(len(values)-1),loc = values.mean(),scale=values.sem())\n",
    "    print(f'95% Доверительный интервал {j} региона равен от {round(interval_[0]/10**9,2)} млрд до {round(interval_[1]/10**9,2)} млрд')\n",
    "    print(f'Риск убытков для {j} региона равен ',((values<10**10).sum()/len(values))*100,'%')\n",
    "    print()\n",
    "    j+=1"
   ]
  },
  {
   "cell_type": "markdown",
   "metadata": {},
   "source": [
    "Выводы:\n",
    "\n",
    "В процессе работы над проектом мной были проделаны следующие шаги:\n",
    "* Загрузка и предобработка данных\n",
    "* Далее был проведён исследовательский и корреляционный анализ - регионы различались по распределению признаков, в том числе и целевого. Самая высокая корреляция между признакми и целевой величиной была у второго региона, что впоследствии и сыграло рещающую роль в выборе региона для разработки.\n",
    "* Далее была проведена подготовка и рассчёт прибыли и рисков для каждого региона с помощью метода Bootstrap\n",
    "\n",
    "Получились следующие результаты:\n",
    "\n",
    "Единственным регионом, который устраивает нас по рискам - это второй регион, что логично, у него модель предсказывала данные лучше всего, даже несмотря на  низкую среднюю величину целевого признака. Средняя прибыль для этого региона самая высокая - 10.44 млрд. Третий и первый регионы по среднему значению нас тоже устраивают, но риски слишком большие. Значит, для разработки мы однозначно выбираем второй регион\n",
    "\n",
    "\n",
    "* Среднее значение прибыли для 2 региона равно 10.44 млрд\n",
    "* 95% Доверительный интервал 2 региона равен от 10.42 млрд до 10.45 млрд\n",
    "* Риск убытков для 2 региона равен  1.9 %"
   ]
  }
 ],
 "metadata": {
  "ExecuteTimeLog": [
   {
    "duration": 1792,
    "start_time": "2024-04-10T11:19:42.718Z"
   },
   {
    "duration": 3724,
    "start_time": "2024-04-10T11:20:05.910Z"
   },
   {
    "duration": 110,
    "start_time": "2024-04-10T11:20:09.636Z"
   },
   {
    "duration": 63,
    "start_time": "2024-04-10T11:24:46.136Z"
   },
   {
    "duration": 1316,
    "start_time": "2024-04-10T11:25:29.246Z"
   },
   {
    "duration": 20,
    "start_time": "2024-04-10T11:25:42.599Z"
   },
   {
    "duration": 16,
    "start_time": "2024-04-10T11:27:48.706Z"
   },
   {
    "duration": 10,
    "start_time": "2024-04-10T11:28:22.890Z"
   },
   {
    "duration": 15,
    "start_time": "2024-04-10T11:28:41.778Z"
   },
   {
    "duration": 19,
    "start_time": "2024-04-10T11:28:49.622Z"
   },
   {
    "duration": 1209,
    "start_time": "2024-04-10T11:28:56.638Z"
   },
   {
    "duration": 10,
    "start_time": "2024-04-10T11:29:00.523Z"
   },
   {
    "duration": 17,
    "start_time": "2024-04-10T11:29:02.154Z"
   },
   {
    "duration": 10,
    "start_time": "2024-04-10T11:29:13.135Z"
   },
   {
    "duration": 16,
    "start_time": "2024-04-10T11:29:21.114Z"
   },
   {
    "duration": 47,
    "start_time": "2024-04-10T11:38:53.583Z"
   },
   {
    "duration": 43,
    "start_time": "2024-04-10T11:39:31.042Z"
   },
   {
    "duration": 10,
    "start_time": "2024-04-10T11:39:45.687Z"
   },
   {
    "duration": 57,
    "start_time": "2024-04-10T11:39:50.458Z"
   },
   {
    "duration": 12,
    "start_time": "2024-04-10T11:40:28.366Z"
   },
   {
    "duration": 11,
    "start_time": "2024-04-10T11:40:41.621Z"
   },
   {
    "duration": 76,
    "start_time": "2024-04-10T11:54:57.995Z"
   },
   {
    "duration": 78,
    "start_time": "2024-04-10T11:55:13.803Z"
   },
   {
    "duration": 885,
    "start_time": "2024-04-10T12:10:58.003Z"
   },
   {
    "duration": 1870,
    "start_time": "2024-04-10T12:11:07.353Z"
   },
   {
    "duration": 4056,
    "start_time": "2024-04-10T12:20:33.566Z"
   },
   {
    "duration": 2772,
    "start_time": "2024-04-10T12:21:47.293Z"
   },
   {
    "duration": 2876,
    "start_time": "2024-04-10T12:21:53.564Z"
   },
   {
    "duration": 2790,
    "start_time": "2024-04-10T12:22:26.198Z"
   },
   {
    "duration": 3014,
    "start_time": "2024-04-10T12:22:40.947Z"
   },
   {
    "duration": 2859,
    "start_time": "2024-04-10T12:22:44.805Z"
   },
   {
    "duration": 3048,
    "start_time": "2024-04-10T12:23:12.008Z"
   },
   {
    "duration": 2848,
    "start_time": "2024-04-10T12:23:57.999Z"
   },
   {
    "duration": 52698,
    "start_time": "2024-04-10T13:43:24.495Z"
   },
   {
    "duration": 767,
    "start_time": "2024-04-10T13:44:45.785Z"
   },
   {
    "duration": 2248,
    "start_time": "2024-04-10T13:45:47.601Z"
   },
   {
    "duration": 2165,
    "start_time": "2024-04-10T13:46:08.238Z"
   },
   {
    "duration": 3907,
    "start_time": "2024-04-12T13:22:45.675Z"
   },
   {
    "duration": 1821,
    "start_time": "2024-04-12T13:22:49.584Z"
   },
   {
    "duration": 1169,
    "start_time": "2024-04-12T13:22:51.407Z"
   },
   {
    "duration": 14,
    "start_time": "2024-04-12T13:22:52.578Z"
   },
   {
    "duration": 24,
    "start_time": "2024-04-12T13:22:52.593Z"
   },
   {
    "duration": 12,
    "start_time": "2024-04-12T13:22:52.618Z"
   },
   {
    "duration": 20,
    "start_time": "2024-04-12T13:22:52.631Z"
   },
   {
    "duration": 21,
    "start_time": "2024-04-12T13:22:52.653Z"
   },
   {
    "duration": 16,
    "start_time": "2024-04-12T13:22:52.675Z"
   },
   {
    "duration": 47,
    "start_time": "2024-04-12T13:22:52.693Z"
   },
   {
    "duration": 65,
    "start_time": "2024-04-12T13:22:52.742Z"
   },
   {
    "duration": 43,
    "start_time": "2024-04-12T13:22:52.809Z"
   },
   {
    "duration": 83,
    "start_time": "2024-04-12T13:22:52.854Z"
   },
   {
    "duration": 2882,
    "start_time": "2024-04-12T13:22:52.939Z"
   },
   {
    "duration": 2498,
    "start_time": "2024-04-12T13:22:55.823Z"
   },
   {
    "duration": 1529,
    "start_time": "2024-04-12T13:38:12.139Z"
   },
   {
    "duration": 44,
    "start_time": "2024-04-12T13:38:23.972Z"
   },
   {
    "duration": 16,
    "start_time": "2024-04-12T14:04:23.461Z"
   },
   {
    "duration": 13,
    "start_time": "2024-04-12T14:05:17.214Z"
   },
   {
    "duration": 6,
    "start_time": "2024-04-12T14:05:33.249Z"
   },
   {
    "duration": 6,
    "start_time": "2024-04-12T14:05:36.690Z"
   },
   {
    "duration": 14,
    "start_time": "2024-04-12T14:06:46.437Z"
   },
   {
    "duration": 58,
    "start_time": "2024-04-12T14:08:29.757Z"
   },
   {
    "duration": 5,
    "start_time": "2024-04-12T14:08:31.469Z"
   },
   {
    "duration": 4246,
    "start_time": "2024-04-12T14:08:32.977Z"
   },
   {
    "duration": 49,
    "start_time": "2024-04-12T14:08:51.730Z"
   },
   {
    "duration": 5,
    "start_time": "2024-04-12T14:08:52.167Z"
   },
   {
    "duration": 502,
    "start_time": "2024-04-12T14:08:53.267Z"
   },
   {
    "duration": 18,
    "start_time": "2024-04-12T14:10:29.630Z"
   },
   {
    "duration": 102,
    "start_time": "2024-04-12T14:10:31.506Z"
   },
   {
    "duration": 4,
    "start_time": "2024-04-12T14:10:32.311Z"
   },
   {
    "duration": 9092,
    "start_time": "2024-04-12T14:10:33.887Z"
   },
   {
    "duration": 17,
    "start_time": "2024-04-12T14:12:49.432Z"
   },
   {
    "duration": 27,
    "start_time": "2024-04-12T14:12:55.162Z"
   },
   {
    "duration": 4,
    "start_time": "2024-04-12T14:15:16.746Z"
   },
   {
    "duration": 2665,
    "start_time": "2024-04-12T14:22:12.554Z"
   },
   {
    "duration": 1477,
    "start_time": "2024-04-12T14:22:15.222Z"
   },
   {
    "duration": 1132,
    "start_time": "2024-04-12T14:22:16.701Z"
   },
   {
    "duration": 14,
    "start_time": "2024-04-12T14:22:17.834Z"
   },
   {
    "duration": 40,
    "start_time": "2024-04-12T14:22:17.850Z"
   },
   {
    "duration": 17,
    "start_time": "2024-04-12T14:22:17.891Z"
   },
   {
    "duration": 34,
    "start_time": "2024-04-12T14:22:17.910Z"
   },
   {
    "duration": 16,
    "start_time": "2024-04-12T14:22:17.946Z"
   },
   {
    "duration": 32,
    "start_time": "2024-04-12T14:22:17.964Z"
   },
   {
    "duration": 69,
    "start_time": "2024-04-12T14:22:17.998Z"
   },
   {
    "duration": 46,
    "start_time": "2024-04-12T14:22:18.069Z"
   },
   {
    "duration": 44,
    "start_time": "2024-04-12T14:22:18.117Z"
   },
   {
    "duration": 80,
    "start_time": "2024-04-12T14:22:18.173Z"
   },
   {
    "duration": 2818,
    "start_time": "2024-04-12T14:22:18.255Z"
   },
   {
    "duration": 2433,
    "start_time": "2024-04-12T14:22:21.074Z"
   },
   {
    "duration": 17,
    "start_time": "2024-04-12T14:22:23.509Z"
   },
   {
    "duration": 108,
    "start_time": "2024-04-12T14:22:23.527Z"
   },
   {
    "duration": 4,
    "start_time": "2024-04-12T14:22:23.637Z"
   },
   {
    "duration": 3153,
    "start_time": "2024-04-12T14:22:23.642Z"
   },
   {
    "duration": 0,
    "start_time": "2024-04-12T14:22:26.797Z"
   },
   {
    "duration": 0,
    "start_time": "2024-04-12T14:22:26.798Z"
   },
   {
    "duration": 2998,
    "start_time": "2024-04-12T14:22:45.881Z"
   },
   {
    "duration": 2965,
    "start_time": "2024-04-12T14:22:51.213Z"
   },
   {
    "duration": 3036,
    "start_time": "2024-04-12T14:22:59.044Z"
   },
   {
    "duration": 905,
    "start_time": "2024-04-12T14:27:05.372Z"
   },
   {
    "duration": 788,
    "start_time": "2024-04-12T14:28:00.504Z"
   },
   {
    "duration": 46,
    "start_time": "2024-04-12T14:31:12.131Z"
   },
   {
    "duration": 11,
    "start_time": "2024-04-12T14:32:45.358Z"
   },
   {
    "duration": 12,
    "start_time": "2024-04-12T14:32:53.184Z"
   },
   {
    "duration": 14,
    "start_time": "2024-04-12T14:33:03.794Z"
   },
   {
    "duration": 7,
    "start_time": "2024-04-12T14:33:10.084Z"
   },
   {
    "duration": 6,
    "start_time": "2024-04-12T14:33:15.115Z"
   },
   {
    "duration": 7,
    "start_time": "2024-04-12T14:33:18.984Z"
   },
   {
    "duration": 4,
    "start_time": "2024-04-12T14:33:26.745Z"
   },
   {
    "duration": 12,
    "start_time": "2024-04-12T14:33:43.239Z"
   },
   {
    "duration": 111,
    "start_time": "2024-04-12T14:33:47.213Z"
   },
   {
    "duration": 4,
    "start_time": "2024-04-12T14:33:50.469Z"
   },
   {
    "duration": 5,
    "start_time": "2024-04-12T14:35:05.739Z"
   },
   {
    "duration": 3000,
    "start_time": "2024-04-12T14:35:07.578Z"
   },
   {
    "duration": 3000,
    "start_time": "2024-04-12T14:35:10.580Z"
   },
   {
    "duration": 2993,
    "start_time": "2024-04-12T14:35:13.582Z"
   },
   {
    "duration": 3263,
    "start_time": "2024-04-13T11:02:50.937Z"
   },
   {
    "duration": 1587,
    "start_time": "2024-04-13T11:02:54.203Z"
   },
   {
    "duration": 1048,
    "start_time": "2024-04-13T11:02:55.792Z"
   },
   {
    "duration": 13,
    "start_time": "2024-04-13T11:02:56.841Z"
   },
   {
    "duration": 15,
    "start_time": "2024-04-13T11:02:56.858Z"
   },
   {
    "duration": 9,
    "start_time": "2024-04-13T11:02:56.874Z"
   },
   {
    "duration": 15,
    "start_time": "2024-04-13T11:02:56.885Z"
   },
   {
    "duration": 13,
    "start_time": "2024-04-13T11:02:56.901Z"
   },
   {
    "duration": 25,
    "start_time": "2024-04-13T11:02:56.915Z"
   },
   {
    "duration": 49,
    "start_time": "2024-04-13T11:02:56.942Z"
   },
   {
    "duration": 34,
    "start_time": "2024-04-13T11:02:56.993Z"
   },
   {
    "duration": 51,
    "start_time": "2024-04-13T11:02:57.028Z"
   },
   {
    "duration": 59,
    "start_time": "2024-04-13T11:02:57.081Z"
   },
   {
    "duration": 2425,
    "start_time": "2024-04-13T11:02:57.142Z"
   },
   {
    "duration": 2175,
    "start_time": "2024-04-13T11:02:59.569Z"
   },
   {
    "duration": 25,
    "start_time": "2024-04-13T11:03:01.746Z"
   },
   {
    "duration": 275,
    "start_time": "2024-04-13T11:03:01.773Z"
   },
   {
    "duration": 179,
    "start_time": "2024-04-13T11:03:02.050Z"
   },
   {
    "duration": 4270,
    "start_time": "2024-04-13T11:03:02.230Z"
   },
   {
    "duration": 0,
    "start_time": "2024-04-13T11:03:06.502Z"
   },
   {
    "duration": 0,
    "start_time": "2024-04-13T11:03:06.503Z"
   },
   {
    "duration": 4057,
    "start_time": "2024-04-13T11:04:32.318Z"
   },
   {
    "duration": 11,
    "start_time": "2024-04-13T11:05:31.209Z"
   },
   {
    "duration": 5,
    "start_time": "2024-04-13T11:06:12.044Z"
   },
   {
    "duration": 3190,
    "start_time": "2024-04-13T11:06:13.876Z"
   },
   {
    "duration": 3027,
    "start_time": "2024-04-13T11:06:19.433Z"
   },
   {
    "duration": 2897,
    "start_time": "2024-04-13T11:06:22.462Z"
   },
   {
    "duration": 173,
    "start_time": "2024-04-13T11:11:04.158Z"
   },
   {
    "duration": 160,
    "start_time": "2024-04-13T11:11:20.049Z"
   },
   {
    "duration": 164,
    "start_time": "2024-04-13T11:12:47.371Z"
   },
   {
    "duration": 151,
    "start_time": "2024-04-13T11:12:49.269Z"
   },
   {
    "duration": 171,
    "start_time": "2024-04-13T11:12:51.209Z"
   },
   {
    "duration": 2957,
    "start_time": "2024-04-13T11:14:05.904Z"
   },
   {
    "duration": 2978,
    "start_time": "2024-04-13T11:14:50.585Z"
   },
   {
    "duration": 2999,
    "start_time": "2024-04-13T11:14:53.564Z"
   },
   {
    "duration": 9,
    "start_time": "2024-04-13T11:25:37.413Z"
   },
   {
    "duration": 8,
    "start_time": "2024-04-13T11:25:43.914Z"
   },
   {
    "duration": 10,
    "start_time": "2024-04-13T11:25:55.999Z"
   },
   {
    "duration": 52,
    "start_time": "2024-04-13T11:27:34.607Z"
   },
   {
    "duration": 16,
    "start_time": "2024-04-13T11:28:33.298Z"
   },
   {
    "duration": 8,
    "start_time": "2024-04-13T11:29:16.878Z"
   },
   {
    "duration": 11,
    "start_time": "2024-04-13T11:29:21.527Z"
   },
   {
    "duration": 6,
    "start_time": "2024-04-13T11:34:17.558Z"
   },
   {
    "duration": 8,
    "start_time": "2024-04-13T11:35:45.636Z"
   },
   {
    "duration": 13,
    "start_time": "2024-04-13T11:37:06.579Z"
   },
   {
    "duration": 14,
    "start_time": "2024-04-13T11:37:14.446Z"
   },
   {
    "duration": 11,
    "start_time": "2024-04-13T11:37:43.038Z"
   },
   {
    "duration": 11,
    "start_time": "2024-04-13T11:37:54.838Z"
   },
   {
    "duration": 13,
    "start_time": "2024-04-13T11:38:24.384Z"
   },
   {
    "duration": 11,
    "start_time": "2024-04-13T11:38:56.477Z"
   },
   {
    "duration": 2343,
    "start_time": "2024-04-13T11:39:47.208Z"
   },
   {
    "duration": 1518,
    "start_time": "2024-04-13T11:39:49.553Z"
   },
   {
    "duration": 0,
    "start_time": "2024-04-13T11:39:51.073Z"
   },
   {
    "duration": 0,
    "start_time": "2024-04-13T11:39:51.074Z"
   },
   {
    "duration": 0,
    "start_time": "2024-04-13T11:39:51.075Z"
   },
   {
    "duration": 0,
    "start_time": "2024-04-13T11:39:51.076Z"
   },
   {
    "duration": 0,
    "start_time": "2024-04-13T11:39:51.078Z"
   },
   {
    "duration": 0,
    "start_time": "2024-04-13T11:39:51.079Z"
   },
   {
    "duration": 0,
    "start_time": "2024-04-13T11:39:51.081Z"
   },
   {
    "duration": 0,
    "start_time": "2024-04-13T11:39:51.082Z"
   },
   {
    "duration": 0,
    "start_time": "2024-04-13T11:39:51.084Z"
   },
   {
    "duration": 0,
    "start_time": "2024-04-13T11:39:51.085Z"
   },
   {
    "duration": 0,
    "start_time": "2024-04-13T11:39:51.086Z"
   },
   {
    "duration": 0,
    "start_time": "2024-04-13T11:39:51.088Z"
   },
   {
    "duration": 0,
    "start_time": "2024-04-13T11:39:51.089Z"
   },
   {
    "duration": 1,
    "start_time": "2024-04-13T11:39:51.090Z"
   },
   {
    "duration": 0,
    "start_time": "2024-04-13T11:39:51.092Z"
   },
   {
    "duration": 0,
    "start_time": "2024-04-13T11:39:51.093Z"
   },
   {
    "duration": 0,
    "start_time": "2024-04-13T11:39:51.095Z"
   },
   {
    "duration": 0,
    "start_time": "2024-04-13T11:39:51.097Z"
   },
   {
    "duration": 0,
    "start_time": "2024-04-13T11:39:51.098Z"
   },
   {
    "duration": 0,
    "start_time": "2024-04-13T11:39:51.099Z"
   },
   {
    "duration": 0,
    "start_time": "2024-04-13T11:39:51.100Z"
   },
   {
    "duration": 0,
    "start_time": "2024-04-13T11:39:51.102Z"
   },
   {
    "duration": 0,
    "start_time": "2024-04-13T11:39:51.103Z"
   },
   {
    "duration": 0,
    "start_time": "2024-04-13T11:39:51.104Z"
   },
   {
    "duration": 0,
    "start_time": "2024-04-13T11:39:51.106Z"
   },
   {
    "duration": 0,
    "start_time": "2024-04-13T11:39:51.160Z"
   },
   {
    "duration": 21,
    "start_time": "2024-04-13T11:41:06.593Z"
   },
   {
    "duration": 2360,
    "start_time": "2024-04-13T11:41:27.921Z"
   },
   {
    "duration": 1458,
    "start_time": "2024-04-13T11:41:30.283Z"
   },
   {
    "duration": 1078,
    "start_time": "2024-04-13T11:41:31.743Z"
   },
   {
    "duration": 13,
    "start_time": "2024-04-13T11:41:32.822Z"
   },
   {
    "duration": 26,
    "start_time": "2024-04-13T11:41:32.837Z"
   },
   {
    "duration": 11,
    "start_time": "2024-04-13T11:41:32.864Z"
   },
   {
    "duration": 15,
    "start_time": "2024-04-13T11:41:32.877Z"
   },
   {
    "duration": 8,
    "start_time": "2024-04-13T11:41:32.893Z"
   },
   {
    "duration": 18,
    "start_time": "2024-04-13T11:41:32.903Z"
   },
   {
    "duration": 57,
    "start_time": "2024-04-13T11:41:32.923Z"
   },
   {
    "duration": 36,
    "start_time": "2024-04-13T11:41:32.982Z"
   },
   {
    "duration": 52,
    "start_time": "2024-04-13T11:41:33.019Z"
   },
   {
    "duration": 64,
    "start_time": "2024-04-13T11:41:33.072Z"
   },
   {
    "duration": 2436,
    "start_time": "2024-04-13T11:41:33.138Z"
   },
   {
    "duration": 2126,
    "start_time": "2024-04-13T11:41:35.575Z"
   },
   {
    "duration": 16,
    "start_time": "2024-04-13T11:41:37.703Z"
   },
   {
    "duration": 8,
    "start_time": "2024-04-13T11:41:37.721Z"
   },
   {
    "duration": 120,
    "start_time": "2024-04-13T11:41:37.731Z"
   },
   {
    "duration": 6,
    "start_time": "2024-04-13T11:41:37.853Z"
   },
   {
    "duration": 3001,
    "start_time": "2024-04-13T11:41:37.860Z"
   },
   {
    "duration": 169,
    "start_time": "2024-04-13T11:41:40.863Z"
   },
   {
    "duration": 3028,
    "start_time": "2024-04-13T11:41:41.034Z"
   },
   {
    "duration": 163,
    "start_time": "2024-04-13T11:41:44.064Z"
   },
   {
    "duration": 3034,
    "start_time": "2024-04-13T11:41:44.228Z"
   },
   {
    "duration": 185,
    "start_time": "2024-04-13T11:41:47.264Z"
   },
   {
    "duration": 19,
    "start_time": "2024-04-13T11:41:47.451Z"
   },
   {
    "duration": 100,
    "start_time": "2024-04-13T11:41:47.559Z"
   },
   {
    "duration": 7,
    "start_time": "2024-04-13T11:41:47.661Z"
   },
   {
    "duration": 88,
    "start_time": "2024-04-13T12:01:06.780Z"
   },
   {
    "duration": 98,
    "start_time": "2024-04-13T12:01:24.164Z"
   },
   {
    "duration": 104,
    "start_time": "2024-04-13T12:02:29.364Z"
   },
   {
    "duration": 5,
    "start_time": "2024-04-13T12:14:12.923Z"
   },
   {
    "duration": 5,
    "start_time": "2024-04-13T12:14:32.465Z"
   },
   {
    "duration": 7,
    "start_time": "2024-04-13T12:14:40.196Z"
   },
   {
    "duration": 6,
    "start_time": "2024-04-13T12:16:44.737Z"
   },
   {
    "duration": 5,
    "start_time": "2024-04-13T12:17:13.230Z"
   },
   {
    "duration": 6,
    "start_time": "2024-04-13T12:18:17.896Z"
   },
   {
    "duration": 86,
    "start_time": "2024-04-13T12:18:18.747Z"
   },
   {
    "duration": 4,
    "start_time": "2024-04-13T12:18:24.591Z"
   },
   {
    "duration": 3,
    "start_time": "2024-04-13T12:30:35.982Z"
   },
   {
    "duration": 3,
    "start_time": "2024-04-13T12:31:48.287Z"
   },
   {
    "duration": 3,
    "start_time": "2024-04-13T12:34:36.820Z"
   },
   {
    "duration": 3,
    "start_time": "2024-04-13T12:34:50.713Z"
   },
   {
    "duration": 3,
    "start_time": "2024-04-13T12:35:26.672Z"
   },
   {
    "duration": 4,
    "start_time": "2024-04-13T12:35:53.834Z"
   },
   {
    "duration": 4,
    "start_time": "2024-04-13T12:36:04.546Z"
   },
   {
    "duration": 6,
    "start_time": "2024-04-13T12:40:27.420Z"
   },
   {
    "duration": 90,
    "start_time": "2024-04-13T12:41:20.344Z"
   },
   {
    "duration": 3,
    "start_time": "2024-04-13T12:51:17.510Z"
   },
   {
    "duration": 115,
    "start_time": "2024-04-13T12:53:01.676Z"
   },
   {
    "duration": 12,
    "start_time": "2024-04-13T12:53:07.186Z"
   },
   {
    "duration": 13,
    "start_time": "2024-04-13T12:53:16.208Z"
   },
   {
    "duration": 12,
    "start_time": "2024-04-13T12:54:12.615Z"
   },
   {
    "duration": 11,
    "start_time": "2024-04-13T12:55:40.086Z"
   },
   {
    "duration": 12,
    "start_time": "2024-04-13T12:55:52.801Z"
   },
   {
    "duration": 5,
    "start_time": "2024-04-13T12:56:10.729Z"
   },
   {
    "duration": 11,
    "start_time": "2024-04-13T12:56:19.563Z"
   },
   {
    "duration": 3,
    "start_time": "2024-04-13T12:56:31.012Z"
   },
   {
    "duration": 3,
    "start_time": "2024-04-13T12:56:34.773Z"
   },
   {
    "duration": 5,
    "start_time": "2024-04-13T12:56:50.705Z"
   },
   {
    "duration": 7,
    "start_time": "2024-04-13T12:57:14.786Z"
   },
   {
    "duration": 4,
    "start_time": "2024-04-13T12:57:23.980Z"
   },
   {
    "duration": 6,
    "start_time": "2024-04-13T12:57:40.967Z"
   },
   {
    "duration": 19,
    "start_time": "2024-04-13T13:01:57.659Z"
   },
   {
    "duration": 3,
    "start_time": "2024-04-13T13:02:20.486Z"
   },
   {
    "duration": 11,
    "start_time": "2024-04-13T13:04:31.934Z"
   },
   {
    "duration": 10,
    "start_time": "2024-04-13T13:04:41.396Z"
   },
   {
    "duration": 10,
    "start_time": "2024-04-13T13:04:47.123Z"
   },
   {
    "duration": 13,
    "start_time": "2024-04-13T13:31:16.426Z"
   },
   {
    "duration": 11,
    "start_time": "2024-04-13T13:31:44.418Z"
   },
   {
    "duration": 674,
    "start_time": "2024-04-13T13:32:03.028Z"
   },
   {
    "duration": 659,
    "start_time": "2024-04-13T13:32:24.038Z"
   },
   {
    "duration": 16,
    "start_time": "2024-04-13T13:32:55.707Z"
   },
   {
    "duration": 98,
    "start_time": "2024-04-13T13:33:54.840Z"
   },
   {
    "duration": 12,
    "start_time": "2024-04-13T13:34:03.011Z"
   },
   {
    "duration": 11,
    "start_time": "2024-04-13T13:34:10.258Z"
   },
   {
    "duration": 79,
    "start_time": "2024-04-13T13:35:21.387Z"
   },
   {
    "duration": 7,
    "start_time": "2024-04-13T13:35:33.262Z"
   },
   {
    "duration": 644,
    "start_time": "2024-04-13T13:35:44.472Z"
   },
   {
    "duration": 661,
    "start_time": "2024-04-13T13:37:30.364Z"
   },
   {
    "duration": 622,
    "start_time": "2024-04-13T13:37:40.389Z"
   },
   {
    "duration": 647,
    "start_time": "2024-04-13T13:38:14.270Z"
   },
   {
    "duration": 671,
    "start_time": "2024-04-13T13:41:00.849Z"
   },
   {
    "duration": 689,
    "start_time": "2024-04-13T13:42:29.708Z"
   },
   {
    "duration": 651,
    "start_time": "2024-04-13T13:42:35.190Z"
   },
   {
    "duration": 632,
    "start_time": "2024-04-13T13:42:48.310Z"
   },
   {
    "duration": 1968,
    "start_time": "2024-04-13T13:46:07.999Z"
   },
   {
    "duration": 1963,
    "start_time": "2024-04-13T13:46:40.505Z"
   },
   {
    "duration": 1957,
    "start_time": "2024-04-13T13:47:09.391Z"
   },
   {
    "duration": 1983,
    "start_time": "2024-04-13T13:47:16.738Z"
   },
   {
    "duration": 1925,
    "start_time": "2024-04-13T13:47:58.949Z"
   },
   {
    "duration": 1957,
    "start_time": "2024-04-13T13:48:06.030Z"
   },
   {
    "duration": 14,
    "start_time": "2024-04-13T13:55:44.479Z"
   },
   {
    "duration": 3,
    "start_time": "2024-04-13T13:55:47.299Z"
   },
   {
    "duration": 15,
    "start_time": "2024-04-13T13:55:48.353Z"
   },
   {
    "duration": 3,
    "start_time": "2024-04-13T13:56:15.045Z"
   },
   {
    "duration": 16,
    "start_time": "2024-04-13T13:56:15.972Z"
   },
   {
    "duration": 3,
    "start_time": "2024-04-13T13:56:28.225Z"
   },
   {
    "duration": 2318,
    "start_time": "2024-04-13T13:56:28.821Z"
   },
   {
    "duration": 2301,
    "start_time": "2024-04-13T13:58:33.245Z"
   },
   {
    "duration": 2295,
    "start_time": "2024-04-13T14:03:07.543Z"
   },
   {
    "duration": 1502,
    "start_time": "2024-04-13T14:03:09.841Z"
   },
   {
    "duration": 1259,
    "start_time": "2024-04-13T14:03:11.344Z"
   },
   {
    "duration": 11,
    "start_time": "2024-04-13T14:03:12.605Z"
   },
   {
    "duration": 15,
    "start_time": "2024-04-13T14:03:12.619Z"
   },
   {
    "duration": 9,
    "start_time": "2024-04-13T14:03:12.636Z"
   },
   {
    "duration": 13,
    "start_time": "2024-04-13T14:03:12.658Z"
   },
   {
    "duration": 7,
    "start_time": "2024-04-13T14:03:12.673Z"
   },
   {
    "duration": 26,
    "start_time": "2024-04-13T14:03:12.682Z"
   },
   {
    "duration": 48,
    "start_time": "2024-04-13T14:03:12.711Z"
   },
   {
    "duration": 33,
    "start_time": "2024-04-13T14:03:12.761Z"
   },
   {
    "duration": 37,
    "start_time": "2024-04-13T14:03:12.795Z"
   },
   {
    "duration": 71,
    "start_time": "2024-04-13T14:03:12.833Z"
   },
   {
    "duration": 2439,
    "start_time": "2024-04-13T14:03:12.906Z"
   },
   {
    "duration": 2171,
    "start_time": "2024-04-13T14:03:15.346Z"
   },
   {
    "duration": 15,
    "start_time": "2024-04-13T14:03:17.519Z"
   },
   {
    "duration": 8,
    "start_time": "2024-04-13T14:03:17.536Z"
   },
   {
    "duration": 129,
    "start_time": "2024-04-13T14:03:17.546Z"
   },
   {
    "duration": 4,
    "start_time": "2024-04-13T14:03:17.677Z"
   },
   {
    "duration": 2977,
    "start_time": "2024-04-13T14:03:17.682Z"
   },
   {
    "duration": 175,
    "start_time": "2024-04-13T14:03:20.661Z"
   },
   {
    "duration": 3024,
    "start_time": "2024-04-13T14:03:20.838Z"
   },
   {
    "duration": 169,
    "start_time": "2024-04-13T14:03:23.863Z"
   },
   {
    "duration": 3028,
    "start_time": "2024-04-13T14:03:24.034Z"
   },
   {
    "duration": 207,
    "start_time": "2024-04-13T14:03:27.064Z"
   },
   {
    "duration": 14,
    "start_time": "2024-04-13T14:03:27.273Z"
   },
   {
    "duration": 101,
    "start_time": "2024-04-13T14:03:27.359Z"
   },
   {
    "duration": 8,
    "start_time": "2024-04-13T14:03:27.464Z"
   },
   {
    "duration": 185,
    "start_time": "2024-04-13T14:03:27.474Z"
   },
   {
    "duration": 198,
    "start_time": "2024-04-13T14:03:27.661Z"
   },
   {
    "duration": 5,
    "start_time": "2024-04-13T14:03:27.860Z"
   },
   {
    "duration": 11,
    "start_time": "2024-04-13T14:03:27.866Z"
   },
   {
    "duration": 9,
    "start_time": "2024-04-13T14:03:27.878Z"
   },
   {
    "duration": 5,
    "start_time": "2024-04-13T14:03:27.889Z"
   },
   {
    "duration": 11,
    "start_time": "2024-04-13T14:03:27.895Z"
   },
   {
    "duration": 19,
    "start_time": "2024-04-13T14:03:27.908Z"
   },
   {
    "duration": 14,
    "start_time": "2024-04-13T14:03:27.929Z"
   },
   {
    "duration": 2314,
    "start_time": "2024-04-13T14:03:27.944Z"
   },
   {
    "duration": 2280,
    "start_time": "2024-04-13T14:10:12.010Z"
   },
   {
    "duration": 1478,
    "start_time": "2024-04-13T14:10:14.292Z"
   },
   {
    "duration": 985,
    "start_time": "2024-04-13T14:10:15.772Z"
   },
   {
    "duration": 13,
    "start_time": "2024-04-13T14:10:16.759Z"
   },
   {
    "duration": 51,
    "start_time": "2024-04-13T14:10:16.773Z"
   },
   {
    "duration": 42,
    "start_time": "2024-04-13T14:10:16.825Z"
   },
   {
    "duration": 43,
    "start_time": "2024-04-13T14:10:16.869Z"
   },
   {
    "duration": 31,
    "start_time": "2024-04-13T14:10:16.913Z"
   },
   {
    "duration": 24,
    "start_time": "2024-04-13T14:10:16.945Z"
   },
   {
    "duration": 45,
    "start_time": "2024-04-13T14:10:16.971Z"
   },
   {
    "duration": 36,
    "start_time": "2024-04-13T14:10:17.018Z"
   },
   {
    "duration": 37,
    "start_time": "2024-04-13T14:10:17.059Z"
   },
   {
    "duration": 79,
    "start_time": "2024-04-13T14:10:17.097Z"
   },
   {
    "duration": 2462,
    "start_time": "2024-04-13T14:10:17.177Z"
   },
   {
    "duration": 2239,
    "start_time": "2024-04-13T14:10:19.641Z"
   },
   {
    "duration": 15,
    "start_time": "2024-04-13T14:10:21.881Z"
   },
   {
    "duration": 11,
    "start_time": "2024-04-13T14:10:21.898Z"
   },
   {
    "duration": 163,
    "start_time": "2024-04-13T14:10:21.911Z"
   },
   {
    "duration": 4,
    "start_time": "2024-04-13T14:10:22.075Z"
   },
   {
    "duration": 2978,
    "start_time": "2024-04-13T14:10:22.080Z"
   },
   {
    "duration": 167,
    "start_time": "2024-04-13T14:10:25.060Z"
   },
   {
    "duration": 2930,
    "start_time": "2024-04-13T14:10:25.229Z"
   },
   {
    "duration": 175,
    "start_time": "2024-04-13T14:10:28.161Z"
   },
   {
    "duration": 3032,
    "start_time": "2024-04-13T14:10:28.338Z"
   },
   {
    "duration": 204,
    "start_time": "2024-04-13T14:10:31.372Z"
   },
   {
    "duration": 87,
    "start_time": "2024-04-13T14:10:31.578Z"
   },
   {
    "duration": 99,
    "start_time": "2024-04-13T14:10:31.667Z"
   },
   {
    "duration": 14,
    "start_time": "2024-04-13T14:10:31.769Z"
   },
   {
    "duration": 83,
    "start_time": "2024-04-13T14:10:31.785Z"
   },
   {
    "duration": 111,
    "start_time": "2024-04-13T14:10:31.960Z"
   },
   {
    "duration": 5,
    "start_time": "2024-04-13T14:10:32.159Z"
   },
   {
    "duration": 5,
    "start_time": "2024-04-13T14:10:32.165Z"
   },
   {
    "duration": 8,
    "start_time": "2024-04-13T14:10:32.171Z"
   },
   {
    "duration": 12,
    "start_time": "2024-04-13T14:10:32.180Z"
   },
   {
    "duration": 7,
    "start_time": "2024-04-13T14:10:32.194Z"
   },
   {
    "duration": 10,
    "start_time": "2024-04-13T14:10:32.202Z"
   },
   {
    "duration": 5,
    "start_time": "2024-04-13T14:10:32.214Z"
   },
   {
    "duration": 2326,
    "start_time": "2024-04-13T14:10:32.220Z"
   },
   {
    "duration": 1653,
    "start_time": "2024-04-15T09:59:51.732Z"
   },
   {
    "duration": 3642,
    "start_time": "2024-04-15T09:59:57.399Z"
   },
   {
    "duration": 153,
    "start_time": "2024-04-15T10:00:01.044Z"
   },
   {
    "duration": 49,
    "start_time": "2024-04-15T10:02:41.740Z"
   },
   {
    "duration": 20,
    "start_time": "2024-04-15T10:03:03.456Z"
   },
   {
    "duration": 163,
    "start_time": "2024-04-15T10:03:30.739Z"
   },
   {
    "duration": 84,
    "start_time": "2024-04-15T10:05:15.043Z"
   },
   {
    "duration": 3,
    "start_time": "2024-04-15T10:07:13.938Z"
   },
   {
    "duration": 293,
    "start_time": "2024-04-15T10:07:20.255Z"
   },
   {
    "duration": 1128,
    "start_time": "2024-04-15T10:07:26.876Z"
   },
   {
    "duration": 12,
    "start_time": "2024-04-15T10:07:32.012Z"
   },
   {
    "duration": 9,
    "start_time": "2024-04-15T10:08:41.851Z"
   },
   {
    "duration": 16,
    "start_time": "2024-04-15T10:08:43.442Z"
   },
   {
    "duration": 9,
    "start_time": "2024-04-15T10:08:49.056Z"
   },
   {
    "duration": 14,
    "start_time": "2024-04-15T10:08:54.026Z"
   },
   {
    "duration": 9,
    "start_time": "2024-04-15T10:08:55.918Z"
   },
   {
    "duration": 14,
    "start_time": "2024-04-15T10:08:58.024Z"
   },
   {
    "duration": 40,
    "start_time": "2024-04-15T10:09:01.800Z"
   },
   {
    "duration": 45,
    "start_time": "2024-04-15T10:09:03.462Z"
   },
   {
    "duration": 40,
    "start_time": "2024-04-15T10:09:05.436Z"
   },
   {
    "duration": 55,
    "start_time": "2024-04-15T10:09:14.917Z"
   },
   {
    "duration": 125,
    "start_time": "2024-04-15T10:10:17.667Z"
   },
   {
    "duration": 2418,
    "start_time": "2024-04-15T10:12:11.558Z"
   },
   {
    "duration": 17,
    "start_time": "2024-04-15T10:16:03.106Z"
   },
   {
    "duration": 8,
    "start_time": "2024-04-15T10:16:04.292Z"
   },
   {
    "duration": 122,
    "start_time": "2024-04-15T10:16:05.255Z"
   },
   {
    "duration": 101,
    "start_time": "2024-04-15T10:16:06.231Z"
   },
   {
    "duration": 17,
    "start_time": "2024-04-15T10:16:11.182Z"
   },
   {
    "duration": 9,
    "start_time": "2024-04-15T10:16:36.793Z"
   },
   {
    "duration": 8,
    "start_time": "2024-04-15T10:16:50.284Z"
   },
   {
    "duration": 8,
    "start_time": "2024-04-15T10:17:33.338Z"
   },
   {
    "duration": 8,
    "start_time": "2024-04-15T10:17:57.589Z"
   },
   {
    "duration": 3,
    "start_time": "2024-04-15T10:18:17.281Z"
   },
   {
    "duration": 4,
    "start_time": "2024-04-15T10:18:59.896Z"
   },
   {
    "duration": 3092,
    "start_time": "2024-04-15T10:19:02.270Z"
   },
   {
    "duration": 4,
    "start_time": "2024-04-15T10:23:03.457Z"
   },
   {
    "duration": 2961,
    "start_time": "2024-04-15T10:23:05.110Z"
   },
   {
    "duration": 221,
    "start_time": "2024-04-15T10:23:08.073Z"
   },
   {
    "duration": 2965,
    "start_time": "2024-04-15T10:23:08.295Z"
   },
   {
    "duration": 166,
    "start_time": "2024-04-15T10:23:11.261Z"
   },
   {
    "duration": 10,
    "start_time": "2024-04-15T10:23:11.429Z"
   },
   {
    "duration": 2993,
    "start_time": "2024-04-15T10:23:29.968Z"
   },
   {
    "duration": 186,
    "start_time": "2024-04-15T10:23:34.572Z"
   },
   {
    "duration": 5,
    "start_time": "2024-04-15T10:26:32.594Z"
   },
   {
    "duration": 5,
    "start_time": "2024-04-15T10:26:34.262Z"
   },
   {
    "duration": 3,
    "start_time": "2024-04-15T10:31:00.058Z"
   },
   {
    "duration": 5,
    "start_time": "2024-04-15T10:47:10.523Z"
   },
   {
    "duration": 5,
    "start_time": "2024-04-15T10:47:28.135Z"
   },
   {
    "duration": 100,
    "start_time": "2024-04-15T10:48:01.755Z"
   },
   {
    "duration": 3422,
    "start_time": "2024-04-15T10:48:06.920Z"
   },
   {
    "duration": 3366,
    "start_time": "2024-04-15T10:49:24.966Z"
   },
   {
    "duration": 5,
    "start_time": "2024-04-15T10:50:04.935Z"
   },
   {
    "duration": 3207,
    "start_time": "2024-04-15T10:50:06.552Z"
   },
   {
    "duration": 9583,
    "start_time": "2024-04-15T10:50:36.377Z"
   },
   {
    "duration": 5,
    "start_time": "2024-04-15T10:51:10.378Z"
   },
   {
    "duration": 9528,
    "start_time": "2024-04-15T10:51:11.836Z"
   },
   {
    "duration": 7,
    "start_time": "2024-04-15T10:51:51.253Z"
   },
   {
    "duration": 9515,
    "start_time": "2024-04-15T10:51:53.045Z"
   },
   {
    "duration": 5,
    "start_time": "2024-04-15T10:54:17.563Z"
   },
   {
    "duration": 5,
    "start_time": "2024-04-15T10:55:32.131Z"
   },
   {
    "duration": 9608,
    "start_time": "2024-04-15T10:55:39.751Z"
   },
   {
    "duration": 161,
    "start_time": "2024-04-15T10:55:52.431Z"
   },
   {
    "duration": 148,
    "start_time": "2024-04-15T10:55:54.642Z"
   },
   {
    "duration": 176,
    "start_time": "2024-04-15T10:55:58.972Z"
   },
   {
    "duration": 5,
    "start_time": "2024-04-15T10:57:42.570Z"
   },
   {
    "duration": 2374,
    "start_time": "2024-04-15T10:58:30.660Z"
   },
   {
    "duration": 1450,
    "start_time": "2024-04-15T10:58:33.037Z"
   },
   {
    "duration": 2,
    "start_time": "2024-04-15T10:58:34.489Z"
   },
   {
    "duration": 13,
    "start_time": "2024-04-15T10:58:34.493Z"
   },
   {
    "duration": 2088,
    "start_time": "2024-04-15T10:58:34.507Z"
   },
   {
    "duration": 14,
    "start_time": "2024-04-15T10:58:36.597Z"
   },
   {
    "duration": 22,
    "start_time": "2024-04-15T10:58:36.613Z"
   },
   {
    "duration": 8,
    "start_time": "2024-04-15T10:58:36.637Z"
   },
   {
    "duration": 25,
    "start_time": "2024-04-15T10:58:36.646Z"
   },
   {
    "duration": 11,
    "start_time": "2024-04-15T10:58:36.674Z"
   },
   {
    "duration": 48,
    "start_time": "2024-04-15T10:58:36.687Z"
   },
   {
    "duration": 39,
    "start_time": "2024-04-15T10:58:36.736Z"
   },
   {
    "duration": 34,
    "start_time": "2024-04-15T10:58:36.777Z"
   },
   {
    "duration": 50,
    "start_time": "2024-04-15T10:58:36.812Z"
   },
   {
    "duration": 56,
    "start_time": "2024-04-15T10:58:36.863Z"
   },
   {
    "duration": 121,
    "start_time": "2024-04-15T10:58:36.920Z"
   },
   {
    "duration": 2387,
    "start_time": "2024-04-15T10:58:37.042Z"
   },
   {
    "duration": 2231,
    "start_time": "2024-04-15T10:58:39.431Z"
   },
   {
    "duration": 15,
    "start_time": "2024-04-15T10:58:41.663Z"
   },
   {
    "duration": 10,
    "start_time": "2024-04-15T10:58:41.679Z"
   },
   {
    "duration": 20,
    "start_time": "2024-04-15T10:58:41.690Z"
   },
   {
    "duration": 38,
    "start_time": "2024-04-15T10:58:41.711Z"
   },
   {
    "duration": 22,
    "start_time": "2024-04-15T10:58:41.750Z"
   },
   {
    "duration": 9590,
    "start_time": "2024-04-15T10:58:41.774Z"
   },
   {
    "duration": 2,
    "start_time": "2024-04-15T10:58:51.366Z"
   },
   {
    "duration": 275,
    "start_time": "2024-04-15T10:58:51.370Z"
   },
   {
    "duration": 2,
    "start_time": "2024-04-15T10:58:51.647Z"
   },
   {
    "duration": 158,
    "start_time": "2024-04-15T10:58:51.660Z"
   },
   {
    "duration": 3,
    "start_time": "2024-04-15T10:58:51.820Z"
   },
   {
    "duration": 199,
    "start_time": "2024-04-15T10:58:51.824Z"
   },
   {
    "duration": 3,
    "start_time": "2024-04-15T10:58:52.025Z"
   },
   {
    "duration": 15,
    "start_time": "2024-04-15T10:58:52.029Z"
   },
   {
    "duration": 6,
    "start_time": "2024-04-15T10:58:52.046Z"
   },
   {
    "duration": 6,
    "start_time": "2024-04-15T10:58:52.054Z"
   },
   {
    "duration": 12,
    "start_time": "2024-04-15T10:58:52.062Z"
   },
   {
    "duration": 102,
    "start_time": "2024-04-15T10:58:52.076Z"
   },
   {
    "duration": 0,
    "start_time": "2024-04-15T10:58:52.180Z"
   },
   {
    "duration": 0,
    "start_time": "2024-04-15T10:58:52.182Z"
   },
   {
    "duration": 0,
    "start_time": "2024-04-15T10:58:52.183Z"
   },
   {
    "duration": 0,
    "start_time": "2024-04-15T10:58:52.184Z"
   },
   {
    "duration": 0,
    "start_time": "2024-04-15T10:58:52.186Z"
   },
   {
    "duration": 0,
    "start_time": "2024-04-15T10:58:52.187Z"
   },
   {
    "duration": 5,
    "start_time": "2024-04-15T11:01:30.392Z"
   },
   {
    "duration": 9632,
    "start_time": "2024-04-15T11:01:32.133Z"
   },
   {
    "duration": 6,
    "start_time": "2024-04-15T11:01:57.449Z"
   },
   {
    "duration": 5,
    "start_time": "2024-04-15T11:01:59.140Z"
   },
   {
    "duration": 3,
    "start_time": "2024-04-15T11:02:04.395Z"
   },
   {
    "duration": 3,
    "start_time": "2024-04-15T11:02:05.255Z"
   },
   {
    "duration": 4,
    "start_time": "2024-04-15T11:02:06.021Z"
   },
   {
    "duration": 3,
    "start_time": "2024-04-15T11:02:08.875Z"
   },
   {
    "duration": 12,
    "start_time": "2024-04-15T11:02:13.988Z"
   },
   {
    "duration": 6,
    "start_time": "2024-04-15T11:02:56.979Z"
   },
   {
    "duration": 5,
    "start_time": "2024-04-15T11:03:18.540Z"
   },
   {
    "duration": 9539,
    "start_time": "2024-04-15T11:03:19.725Z"
   },
   {
    "duration": 94,
    "start_time": "2024-04-15T11:03:29.266Z"
   },
   {
    "duration": 11,
    "start_time": "2024-04-15T11:03:29.361Z"
   },
   {
    "duration": 3,
    "start_time": "2024-04-15T11:03:32.773Z"
   },
   {
    "duration": 3,
    "start_time": "2024-04-15T11:03:33.528Z"
   },
   {
    "duration": 4,
    "start_time": "2024-04-15T11:03:34.370Z"
   },
   {
    "duration": 3,
    "start_time": "2024-04-15T11:03:35.581Z"
   },
   {
    "duration": 2300,
    "start_time": "2024-04-15T11:03:36.595Z"
   },
   {
    "duration": 2407,
    "start_time": "2024-04-15T11:03:50.771Z"
   },
   {
    "duration": 1374,
    "start_time": "2024-04-15T11:03:53.181Z"
   },
   {
    "duration": 3,
    "start_time": "2024-04-15T11:03:54.556Z"
   },
   {
    "duration": 11,
    "start_time": "2024-04-15T11:03:54.561Z"
   },
   {
    "duration": 1366,
    "start_time": "2024-04-15T11:03:54.573Z"
   },
   {
    "duration": 12,
    "start_time": "2024-04-15T11:03:55.941Z"
   },
   {
    "duration": 37,
    "start_time": "2024-04-15T11:03:55.955Z"
   },
   {
    "duration": 14,
    "start_time": "2024-04-15T11:03:55.993Z"
   },
   {
    "duration": 39,
    "start_time": "2024-04-15T11:03:56.009Z"
   },
   {
    "duration": 16,
    "start_time": "2024-04-15T11:03:56.050Z"
   },
   {
    "duration": 19,
    "start_time": "2024-04-15T11:03:56.067Z"
   },
   {
    "duration": 41,
    "start_time": "2024-04-15T11:03:56.087Z"
   },
   {
    "duration": 50,
    "start_time": "2024-04-15T11:03:56.129Z"
   },
   {
    "duration": 44,
    "start_time": "2024-04-15T11:03:56.180Z"
   },
   {
    "duration": 71,
    "start_time": "2024-04-15T11:03:56.225Z"
   },
   {
    "duration": 134,
    "start_time": "2024-04-15T11:03:56.297Z"
   },
   {
    "duration": 2413,
    "start_time": "2024-04-15T11:03:56.432Z"
   },
   {
    "duration": 2177,
    "start_time": "2024-04-15T11:03:58.846Z"
   },
   {
    "duration": 15,
    "start_time": "2024-04-15T11:04:01.025Z"
   },
   {
    "duration": 36,
    "start_time": "2024-04-15T11:04:01.041Z"
   },
   {
    "duration": 60,
    "start_time": "2024-04-15T11:04:01.079Z"
   },
   {
    "duration": 294,
    "start_time": "2024-04-15T11:04:01.141Z"
   },
   {
    "duration": 101,
    "start_time": "2024-04-15T11:04:01.437Z"
   },
   {
    "duration": 9631,
    "start_time": "2024-04-15T11:04:01.540Z"
   },
   {
    "duration": 3,
    "start_time": "2024-04-15T11:04:11.259Z"
   },
   {
    "duration": 177,
    "start_time": "2024-04-15T11:04:11.263Z"
   },
   {
    "duration": 2,
    "start_time": "2024-04-15T11:04:11.442Z"
   },
   {
    "duration": 188,
    "start_time": "2024-04-15T11:04:11.447Z"
   },
   {
    "duration": 2,
    "start_time": "2024-04-15T11:04:11.637Z"
   },
   {
    "duration": 192,
    "start_time": "2024-04-15T11:04:11.640Z"
   },
   {
    "duration": 3,
    "start_time": "2024-04-15T11:04:11.833Z"
   },
   {
    "duration": 10,
    "start_time": "2024-04-15T11:04:11.837Z"
   },
   {
    "duration": 16,
    "start_time": "2024-04-15T11:04:11.849Z"
   },
   {
    "duration": 15,
    "start_time": "2024-04-15T11:04:11.867Z"
   },
   {
    "duration": 6,
    "start_time": "2024-04-15T11:04:11.884Z"
   },
   {
    "duration": 9,
    "start_time": "2024-04-15T11:04:11.891Z"
   },
   {
    "duration": 9,
    "start_time": "2024-04-15T11:04:11.902Z"
   },
   {
    "duration": 15,
    "start_time": "2024-04-15T11:04:11.912Z"
   },
   {
    "duration": 8,
    "start_time": "2024-04-15T11:04:11.928Z"
   },
   {
    "duration": 15,
    "start_time": "2024-04-15T11:04:11.937Z"
   },
   {
    "duration": 3,
    "start_time": "2024-04-15T11:04:11.954Z"
   },
   {
    "duration": 2276,
    "start_time": "2024-04-15T11:04:11.959Z"
   },
   {
    "duration": 2432,
    "start_time": "2024-04-15T11:06:55.043Z"
   },
   {
    "duration": 1401,
    "start_time": "2024-04-15T11:06:57.478Z"
   },
   {
    "duration": 3,
    "start_time": "2024-04-15T11:06:58.881Z"
   },
   {
    "duration": 20,
    "start_time": "2024-04-15T11:06:58.886Z"
   },
   {
    "duration": 945,
    "start_time": "2024-04-15T11:06:58.908Z"
   },
   {
    "duration": 13,
    "start_time": "2024-04-15T11:06:59.855Z"
   },
   {
    "duration": 24,
    "start_time": "2024-04-15T11:06:59.869Z"
   },
   {
    "duration": 9,
    "start_time": "2024-04-15T11:06:59.894Z"
   },
   {
    "duration": 16,
    "start_time": "2024-04-15T11:06:59.904Z"
   },
   {
    "duration": 12,
    "start_time": "2024-04-15T11:06:59.923Z"
   },
   {
    "duration": 27,
    "start_time": "2024-04-15T11:06:59.937Z"
   },
   {
    "duration": 40,
    "start_time": "2024-04-15T11:06:59.966Z"
   },
   {
    "duration": 52,
    "start_time": "2024-04-15T11:07:00.007Z"
   },
   {
    "duration": 58,
    "start_time": "2024-04-15T11:07:00.061Z"
   },
   {
    "duration": 137,
    "start_time": "2024-04-15T11:07:00.120Z"
   },
   {
    "duration": 121,
    "start_time": "2024-04-15T11:07:00.259Z"
   },
   {
    "duration": 2685,
    "start_time": "2024-04-15T11:07:00.382Z"
   },
   {
    "duration": 2172,
    "start_time": "2024-04-15T11:07:03.069Z"
   },
   {
    "duration": 21,
    "start_time": "2024-04-15T11:07:05.243Z"
   },
   {
    "duration": 10,
    "start_time": "2024-04-15T11:07:05.266Z"
   },
   {
    "duration": 28,
    "start_time": "2024-04-15T11:07:05.277Z"
   },
   {
    "duration": 7,
    "start_time": "2024-04-15T11:07:05.307Z"
   },
   {
    "duration": 9546,
    "start_time": "2024-04-15T11:07:05.316Z"
   },
   {
    "duration": 260,
    "start_time": "2024-04-15T11:07:14.869Z"
   },
   {
    "duration": 173,
    "start_time": "2024-04-15T11:07:15.131Z"
   },
   {
    "duration": 189,
    "start_time": "2024-04-15T11:07:15.305Z"
   },
   {
    "duration": 6,
    "start_time": "2024-04-15T11:07:15.496Z"
   },
   {
    "duration": 26,
    "start_time": "2024-04-15T11:07:15.504Z"
   },
   {
    "duration": 18,
    "start_time": "2024-04-15T11:07:15.532Z"
   },
   {
    "duration": 26,
    "start_time": "2024-04-15T11:07:15.551Z"
   },
   {
    "duration": 21,
    "start_time": "2024-04-15T11:07:15.579Z"
   },
   {
    "duration": 17,
    "start_time": "2024-04-15T11:07:15.602Z"
   },
   {
    "duration": 2322,
    "start_time": "2024-04-15T11:07:15.621Z"
   },
   {
    "duration": 2310,
    "start_time": "2024-04-15T11:13:56.183Z"
   },
   {
    "duration": 1366,
    "start_time": "2024-04-15T11:13:58.495Z"
   },
   {
    "duration": 3,
    "start_time": "2024-04-15T11:13:59.862Z"
   },
   {
    "duration": 18,
    "start_time": "2024-04-15T11:13:59.867Z"
   },
   {
    "duration": 1242,
    "start_time": "2024-04-15T11:13:59.886Z"
   },
   {
    "duration": 15,
    "start_time": "2024-04-15T11:14:01.133Z"
   },
   {
    "duration": 136,
    "start_time": "2024-04-15T11:14:01.150Z"
   },
   {
    "duration": 91,
    "start_time": "2024-04-15T11:14:01.287Z"
   },
   {
    "duration": 76,
    "start_time": "2024-04-15T11:14:01.380Z"
   },
   {
    "duration": 59,
    "start_time": "2024-04-15T11:14:01.460Z"
   },
   {
    "duration": 57,
    "start_time": "2024-04-15T11:14:01.520Z"
   },
   {
    "duration": 76,
    "start_time": "2024-04-15T11:14:01.578Z"
   },
   {
    "duration": 51,
    "start_time": "2024-04-15T11:14:01.656Z"
   },
   {
    "duration": 50,
    "start_time": "2024-04-15T11:14:01.709Z"
   },
   {
    "duration": 91,
    "start_time": "2024-04-15T11:14:01.761Z"
   },
   {
    "duration": 149,
    "start_time": "2024-04-15T11:14:01.854Z"
   },
   {
    "duration": 2682,
    "start_time": "2024-04-15T11:14:02.005Z"
   },
   {
    "duration": 2334,
    "start_time": "2024-04-15T11:14:04.688Z"
   },
   {
    "duration": 17,
    "start_time": "2024-04-15T11:14:07.024Z"
   },
   {
    "duration": 22,
    "start_time": "2024-04-15T11:14:07.043Z"
   },
   {
    "duration": 14,
    "start_time": "2024-04-15T11:14:07.066Z"
   },
   {
    "duration": 16,
    "start_time": "2024-04-15T11:14:07.082Z"
   },
   {
    "duration": 9568,
    "start_time": "2024-04-15T11:14:07.099Z"
   },
   {
    "duration": 177,
    "start_time": "2024-04-15T11:14:16.759Z"
   },
   {
    "duration": 175,
    "start_time": "2024-04-15T11:14:16.938Z"
   },
   {
    "duration": 175,
    "start_time": "2024-04-15T11:14:17.115Z"
   },
   {
    "duration": 4,
    "start_time": "2024-04-15T11:14:17.292Z"
   },
   {
    "duration": 7,
    "start_time": "2024-04-15T11:14:17.299Z"
   },
   {
    "duration": 3,
    "start_time": "2024-04-15T11:14:17.308Z"
   },
   {
    "duration": 7,
    "start_time": "2024-04-15T11:14:17.312Z"
   },
   {
    "duration": 37,
    "start_time": "2024-04-15T11:14:17.321Z"
   },
   {
    "duration": 6,
    "start_time": "2024-04-15T11:14:17.359Z"
   },
   {
    "duration": 2200,
    "start_time": "2024-04-15T11:14:17.366Z"
   }
  ],
  "kernelspec": {
   "display_name": "Python 3 (ipykernel)",
   "language": "python",
   "name": "python3"
  },
  "language_info": {
   "codemirror_mode": {
    "name": "ipython",
    "version": 3
   },
   "file_extension": ".py",
   "mimetype": "text/x-python",
   "name": "python",
   "nbconvert_exporter": "python",
   "pygments_lexer": "ipython3",
   "version": "3.11.5"
  },
  "toc": {
   "base_numbering": 1,
   "nav_menu": {},
   "number_sections": true,
   "sideBar": true,
   "skip_h1_title": true,
   "title_cell": "Table of Contents",
   "title_sidebar": "Contents",
   "toc_cell": false,
   "toc_position": {},
   "toc_section_display": true,
   "toc_window_display": false
  }
 },
 "nbformat": 4,
 "nbformat_minor": 2
}
